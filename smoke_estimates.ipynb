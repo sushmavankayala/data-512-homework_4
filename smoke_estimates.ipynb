{
 "cells": [
  {
   "cell_type": "markdown",
   "metadata": {},
   "source": [
    "## This notebook has everything related to smoke estimates"
   ]
  },
  {
   "cell_type": "code",
   "execution_count": 1,
   "metadata": {},
   "outputs": [],
   "source": [
    "%%capture\n",
    "%pip install scipy"
   ]
  },
  {
   "cell_type": "code",
   "execution_count": 2,
   "metadata": {},
   "outputs": [],
   "source": [
    "import polars as pl"
   ]
  },
  {
   "cell_type": "code",
   "execution_count": 3,
   "metadata": {},
   "outputs": [
    {
     "data": {
      "text/html": [
       "<div><style>\n",
       ".dataframe > thead > tr,\n",
       ".dataframe > tbody > tr {\n",
       "  text-align: right;\n",
       "  white-space: pre-wrap;\n",
       "}\n",
       "</style>\n",
       "<small>shape: (52_462, 27)</small><table border=\"1\" class=\"dataframe\"><thead><tr><th>OBJECTID</th><th>USGS_Assigned_ID</th><th>Assigned_Fire_Type</th><th>Fire_Year</th><th>Fire_Polygon_Tier</th><th>Fire_Attribute_Tiers</th><th>GIS_Acres</th><th>GIS_Hectares</th><th>Source_Datasets</th><th>Listed_Fire_Types</th><th>Listed_Fire_Names</th><th>Listed_Fire_Codes</th><th>Listed_Fire_IDs</th><th>Listed_Fire_IRWIN_IDs</th><th>Listed_Fire_Dates</th><th>Listed_Fire_Causes</th><th>Listed_Fire_Cause_Class</th><th>Listed_Rx_Reported_Acres</th><th>Listed_Map_Digitize_Methods</th><th>Wildfire_and_Rx_Flag</th><th>Overlap_Within_1_or_2_Flag</th><th>Circleness_Scale</th><th>Circle_Flag</th><th>Exclude_From_Summary_Rasters</th><th>Shape_Length</th><th>Shape_Area</th><th>Closest_Distance_Miles</th></tr><tr><td>i64</td><td>i64</td><td>str</td><td>i64</td><td>i64</td><td>str</td><td>f64</td><td>f64</td><td>str</td><td>str</td><td>str</td><td>str</td><td>str</td><td>str</td><td>str</td><td>str</td><td>str</td><td>str</td><td>str</td><td>str</td><td>str</td><td>f64</td><td>f64</td><td>str</td><td>f64</td><td>f64</td><td>f64</td></tr></thead><tbody><tr><td>14600</td><td>14600</td><td>&quot;Wildfire&quot;</td><td>1964</td><td>1</td><td>&quot;1 (1), 3 (3)&quot;</td><td>65338.877636</td><td>26441.705659</td><td>&quot;Comb_National_NIFC_Interagency…</td><td>&quot;Wildfire (3), Likely Wildfire …</td><td>&quot;COYOTE (4)&quot;</td><td>&quot;No code provided (4)&quot;</td><td>&quot;0 (3)&quot;</td><td>null</td><td>&quot;Listed Wildfire Discovery Date…</td><td>&quot;14 - Unknown / Unidentified (1…</td><td>&quot;Undetermined (4)&quot;</td><td>null</td><td>null</td><td>null</td><td>null</td><td>0.263753</td><td>null</td><td>&quot;No&quot;</td><td>112240.801495</td><td>2.6442e8</td><td>250.77864</td></tr><tr><td>14601</td><td>14601</td><td>&quot;Wildfire&quot;</td><td>1964</td><td>1</td><td>&quot;1 (2), 3 (3), 5 (1)&quot;</td><td>55960.694158</td><td>22646.489455</td><td>&quot;Comb_National_NIFC_Interagency…</td><td>&quot;Wildfire (5), Likely Wildfire …</td><td>&quot;C. HANLY (5), Hanley (1)&quot;</td><td>&quot;No code provided (5), 198 (1)&quot;</td><td>&quot;0 (3)&quot;</td><td>null</td><td>&quot;Listed Wildfire Discovery Date…</td><td>&quot;14 - Unknown / Unidentified (1…</td><td>&quot;Undetermined (6)&quot;</td><td>null</td><td>null</td><td>null</td><td>null</td><td>0.224592</td><td>null</td><td>&quot;No&quot;</td><td>112566.141954</td><td>2.2646e8</td><td>76.420104</td></tr><tr><td>14602</td><td>14602</td><td>&quot;Wildfire&quot;</td><td>1964</td><td>1</td><td>&quot;1 (2), 3 (3)&quot;</td><td>19218.105903</td><td>7777.29153</td><td>&quot;Comb_National_NIFC_Interagency…</td><td>&quot;Wildfire (4), Likely Wildfire …</td><td>&quot;COZY DELL (5)&quot;</td><td>&quot;No code provided (5)&quot;</td><td>&quot;0 (3)&quot;</td><td>null</td><td>&quot;Listed Wildfire Discovery Date…</td><td>&quot;14 - Unknown / Unidentified (1…</td><td>&quot;Undetermined (5)&quot;</td><td>null</td><td>null</td><td>null</td><td>null</td><td>0.138493</td><td>null</td><td>&quot;No&quot;</td><td>84004.974692</td><td>7.7773e7</td><td>327.916719</td></tr><tr><td>14603</td><td>14603</td><td>&quot;Wildfire&quot;</td><td>1964</td><td>1</td><td>&quot;1 (2), 3 (3)&quot;</td><td>18712.494746</td><td>7572.677954</td><td>&quot;Comb_National_NIFC_Interagency…</td><td>&quot;Wildfire (4), Likely Wildfire …</td><td>&quot;HAYFORK HWY. #2 (5)&quot;</td><td>&quot;No code provided (5)&quot;</td><td>&quot;0 (3)&quot;</td><td>null</td><td>&quot;Listed Wildfire Discovery Date…</td><td>&quot;9 - Miscellaneous (1)&quot;</td><td>&quot;Undetermined (4), Human (1)&quot;</td><td>null</td><td>null</td><td>null</td><td>null</td><td>0.39196</td><td>null</td><td>&quot;No&quot;</td><td>49273.004457</td><td>7.5727e7</td><td>198.853859</td></tr><tr><td>14604</td><td>14604</td><td>&quot;Wildfire&quot;</td><td>1964</td><td>1</td><td>&quot;1 (4), 3 (6)&quot;</td><td>16887.001024</td><td>6833.926855</td><td>&quot;Comb_National_NIFC_Interagency…</td><td>&quot;Wildfire (8), Likely Wildfire …</td><td>&quot;MATTOLE (5), ROBERTS COOP. ESC…</td><td>&quot;No code provided (10)&quot;</td><td>&quot;0 (6)&quot;</td><td>null</td><td>&quot;Listed Wildfire Discovery Date…</td><td>&quot;14 - Unknown / Unidentified (2…</td><td>&quot;Undetermined (10)&quot;</td><td>null</td><td>null</td><td>null</td><td>null</td><td>0.392989</td><td>null</td><td>&quot;No&quot;</td><td>46746.577459</td><td>6.8339e7</td><td>219.778526</td></tr><tr><td>&hellip;</td><td>&hellip;</td><td>&hellip;</td><td>&hellip;</td><td>&hellip;</td><td>&hellip;</td><td>&hellip;</td><td>&hellip;</td><td>&hellip;</td><td>&hellip;</td><td>&hellip;</td><td>&hellip;</td><td>&hellip;</td><td>&hellip;</td><td>&hellip;</td><td>&hellip;</td><td>&hellip;</td><td>&hellip;</td><td>&hellip;</td><td>&hellip;</td><td>&hellip;</td><td>&hellip;</td><td>&hellip;</td><td>&hellip;</td><td>&hellip;</td><td>&hellip;</td><td>&hellip;</td></tr><tr><td>135056</td><td>135056</td><td>&quot;Prescribed Fire&quot;</td><td>2020</td><td>8</td><td>&quot;8 (2)&quot;</td><td>14.545208</td><td>5.886237</td><td>&quot;Comb_National_Rx_Only_BLM_VTRT…</td><td>&quot;Prescribed Fire (2)&quot;</td><td>&quot;2_PHMA_FIAT_Beulah_East_Bendir…</td><td>&quot;No code provided (2)&quot;</td><td>&quot;NFPORS6318576 (2)&quot;</td><td>null</td><td>&quot;Listed Prescribed Fire End Dat…</td><td>&quot;Human (2)&quot;</td><td>&quot;Human (2)&quot;</td><td>null</td><td>null</td><td>null</td><td>null</td><td>0.29925</td><td>null</td><td>&quot;No&quot;</td><td>1572.196739</td><td>58862.370422</td><td>453.342716</td></tr><tr><td>135057</td><td>135057</td><td>&quot;Prescribed Fire&quot;</td><td>2020</td><td>8</td><td>&quot;8 (3)&quot;</td><td>16.412148</td><td>6.641761</td><td>&quot;Comb_National_Rx_Only_BLM_VTRT…</td><td>&quot;Prescribed Fire (3)&quot;</td><td>&quot;WEW CA Broadcast (3)&quot;</td><td>&quot;No code provided (3)&quot;</td><td>&quot;NFPORS6319933 (3)&quot;</td><td>null</td><td>&quot;Listed Prescribed Fire End Dat…</td><td>&quot;Human (3)&quot;</td><td>&quot;Human (3)&quot;</td><td>null</td><td>null</td><td>null</td><td>&quot;Caution, this Prescribed Fire …</td><td>0.177425</td><td>null</td><td>&quot;No&quot;</td><td>2168.90074</td><td>66417.60679</td><td>406.63243</td></tr><tr><td>135058</td><td>135058</td><td>&quot;Prescribed Fire&quot;</td><td>2020</td><td>8</td><td>&quot;8 (1)&quot;</td><td>7.050837</td><td>2.853373</td><td>&quot;Comb_National_Rx_Only_BLM_VTRT…</td><td>&quot;Prescribed Fire (1)&quot;</td><td>&quot;2_PHMA_FIAT_Beulah_East_Bendir…</td><td>&quot;No code provided (1)&quot;</td><td>&quot;NFPORS6318576 (1)&quot;</td><td>null</td><td>&quot;Listed Prescribed Fire End Dat…</td><td>&quot;Human (1)&quot;</td><td>&quot;Human (1)&quot;</td><td>null</td><td>null</td><td>null</td><td>&quot;Caution, this Prescribed Fire …</td><td>0.374368</td><td>null</td><td>&quot;No&quot;</td><td>978.666221</td><td>28533.725602</td><td>449.230338</td></tr><tr><td>135059</td><td>135059</td><td>&quot;Prescribed Fire&quot;</td><td>2020</td><td>8</td><td>&quot;8 (4)&quot;</td><td>9.342668</td><td>3.780843</td><td>&quot;Comb_National_Rx_Only_BLM_VTRT…</td><td>&quot;Prescribed Fire (4)&quot;</td><td>&quot;2_PHMA_FIAT_Beulah_East_Bendir…</td><td>&quot;No code provided (4)&quot;</td><td>&quot;NFPORS6318576 (4)&quot;</td><td>null</td><td>&quot;Listed Prescribed Fire End Dat…</td><td>&quot;Human (4)&quot;</td><td>&quot;Human (4)&quot;</td><td>null</td><td>null</td><td>null</td><td>&quot;Caution, this Prescribed Fire …</td><td>0.123888</td><td>null</td><td>&quot;No&quot;</td><td>1958.32666</td><td>37808.434086</td><td>448.331439</td></tr><tr><td>135061</td><td>135061</td><td>&quot;Prescribed Fire&quot;</td><td>2020</td><td>8</td><td>&quot;8 (1)&quot;</td><td>0.969953</td><td>0.392526</td><td>&quot;Comb_National_Rx_Only_BLM_VTRT…</td><td>&quot;Prescribed Fire (1)&quot;</td><td>&quot;Oak Basin (1)&quot;</td><td>&quot;No code provided (1)&quot;</td><td>&quot;NFPORS6319279 (1)&quot;</td><td>null</td><td>&quot;Listed Prescribed Fire End Dat…</td><td>&quot;Human (1)&quot;</td><td>&quot;Human (1)&quot;</td><td>null</td><td>null</td><td>null</td><td>&quot;Caution, this Prescribed Fire …</td><td>0.744794</td><td>null</td><td>&quot;No&quot;</td><td>257.348237</td><td>3925.260742</td><td>446.202888</td></tr></tbody></table></div>"
      ],
      "text/plain": [
       "shape: (52_462, 27)\n",
       "┌──────────┬───────────┬───────────┬───────────┬───┬───────────┬───────────┬───────────┬───────────┐\n",
       "│ OBJECTID ┆ USGS_Assi ┆ Assigned_ ┆ Fire_Year ┆ … ┆ Exclude_F ┆ Shape_Len ┆ Shape_Are ┆ Closest_D │\n",
       "│ ---      ┆ gned_ID   ┆ Fire_Type ┆ ---       ┆   ┆ rom_Summa ┆ gth       ┆ a         ┆ istance_M │\n",
       "│ i64      ┆ ---       ┆ ---       ┆ i64       ┆   ┆ ry_Raster ┆ ---       ┆ ---       ┆ iles      │\n",
       "│          ┆ i64       ┆ str       ┆           ┆   ┆ s         ┆ f64       ┆ f64       ┆ ---       │\n",
       "│          ┆           ┆           ┆           ┆   ┆ ---       ┆           ┆           ┆ f64       │\n",
       "│          ┆           ┆           ┆           ┆   ┆ str       ┆           ┆           ┆           │\n",
       "╞══════════╪═══════════╪═══════════╪═══════════╪═══╪═══════════╪═══════════╪═══════════╪═══════════╡\n",
       "│ 14600    ┆ 14600     ┆ Wildfire  ┆ 1964      ┆ … ┆ No        ┆ 112240.80 ┆ 2.6442e8  ┆ 250.77864 │\n",
       "│          ┆           ┆           ┆           ┆   ┆           ┆ 1495      ┆           ┆           │\n",
       "│ 14601    ┆ 14601     ┆ Wildfire  ┆ 1964      ┆ … ┆ No        ┆ 112566.14 ┆ 2.2646e8  ┆ 76.420104 │\n",
       "│          ┆           ┆           ┆           ┆   ┆           ┆ 1954      ┆           ┆           │\n",
       "│ 14602    ┆ 14602     ┆ Wildfire  ┆ 1964      ┆ … ┆ No        ┆ 84004.974 ┆ 7.7773e7  ┆ 327.91671 │\n",
       "│          ┆           ┆           ┆           ┆   ┆           ┆ 692       ┆           ┆ 9         │\n",
       "│ 14603    ┆ 14603     ┆ Wildfire  ┆ 1964      ┆ … ┆ No        ┆ 49273.004 ┆ 7.5727e7  ┆ 198.85385 │\n",
       "│          ┆           ┆           ┆           ┆   ┆           ┆ 457       ┆           ┆ 9         │\n",
       "│ 14604    ┆ 14604     ┆ Wildfire  ┆ 1964      ┆ … ┆ No        ┆ 46746.577 ┆ 6.8339e7  ┆ 219.77852 │\n",
       "│          ┆           ┆           ┆           ┆   ┆           ┆ 459       ┆           ┆ 6         │\n",
       "│ …        ┆ …         ┆ …         ┆ …         ┆ … ┆ …         ┆ …         ┆ …         ┆ …         │\n",
       "│ 135056   ┆ 135056    ┆ Prescribe ┆ 2020      ┆ … ┆ No        ┆ 1572.1967 ┆ 58862.370 ┆ 453.34271 │\n",
       "│          ┆           ┆ d Fire    ┆           ┆   ┆           ┆ 39        ┆ 422       ┆ 6         │\n",
       "│ 135057   ┆ 135057    ┆ Prescribe ┆ 2020      ┆ … ┆ No        ┆ 2168.9007 ┆ 66417.606 ┆ 406.63243 │\n",
       "│          ┆           ┆ d Fire    ┆           ┆   ┆           ┆ 4         ┆ 79        ┆           │\n",
       "│ 135058   ┆ 135058    ┆ Prescribe ┆ 2020      ┆ … ┆ No        ┆ 978.66622 ┆ 28533.725 ┆ 449.23033 │\n",
       "│          ┆           ┆ d Fire    ┆           ┆   ┆           ┆ 1         ┆ 602       ┆ 8         │\n",
       "│ 135059   ┆ 135059    ┆ Prescribe ┆ 2020      ┆ … ┆ No        ┆ 1958.3266 ┆ 37808.434 ┆ 448.33143 │\n",
       "│          ┆           ┆ d Fire    ┆           ┆   ┆           ┆ 6         ┆ 086       ┆ 9         │\n",
       "│ 135061   ┆ 135061    ┆ Prescribe ┆ 2020      ┆ … ┆ No        ┆ 257.34823 ┆ 3925.2607 ┆ 446.20288 │\n",
       "│          ┆           ┆ d Fire    ┆           ┆   ┆           ┆ 7         ┆ 42        ┆ 8         │\n",
       "└──────────┴───────────┴───────────┴───────────┴───┴───────────┴───────────┴───────────┴───────────┘"
      ]
     },
     "execution_count": 3,
     "metadata": {},
     "output_type": "execute_result"
    }
   ],
   "source": [
    "wildfires_with_distances = pl.read_csv(\"generated_files/intermediate/wildfires_with_distances.csv\")\n",
    "\n",
    "# find wildfires within 650 miles from the city of interest\n",
    "wildfires_in_proximity = (\n",
    "    wildfires_with_distances\n",
    "    .filter(\n",
    "        pl.col(\"Closest_Distance_Miles\") <= 650\n",
    "    )\n",
    ") \n",
    "\n",
    "wildfires_in_proximity"
   ]
  },
  {
   "cell_type": "code",
   "execution_count": 4,
   "metadata": {},
   "outputs": [
    {
     "name": "stdout",
     "output_type": "stream",
     "text": [
      "Available columns\n"
     ]
    },
    {
     "data": {
      "text/plain": [
       "['OBJECTID',\n",
       " 'USGS_Assigned_ID',\n",
       " 'Assigned_Fire_Type',\n",
       " 'Fire_Year',\n",
       " 'Fire_Polygon_Tier',\n",
       " 'Fire_Attribute_Tiers',\n",
       " 'GIS_Acres',\n",
       " 'GIS_Hectares',\n",
       " 'Source_Datasets',\n",
       " 'Listed_Fire_Types',\n",
       " 'Listed_Fire_Names',\n",
       " 'Listed_Fire_Codes',\n",
       " 'Listed_Fire_IDs',\n",
       " 'Listed_Fire_IRWIN_IDs',\n",
       " 'Listed_Fire_Dates',\n",
       " 'Listed_Fire_Causes',\n",
       " 'Listed_Fire_Cause_Class',\n",
       " 'Listed_Rx_Reported_Acres',\n",
       " 'Listed_Map_Digitize_Methods',\n",
       " 'Wildfire_and_Rx_Flag',\n",
       " 'Overlap_Within_1_or_2_Flag',\n",
       " 'Circleness_Scale',\n",
       " 'Circle_Flag',\n",
       " 'Exclude_From_Summary_Rasters',\n",
       " 'Shape_Length',\n",
       " 'Shape_Area',\n",
       " 'Closest_Distance_Miles']"
      ]
     },
     "execution_count": 4,
     "metadata": {},
     "output_type": "execute_result"
    }
   ],
   "source": [
    "# doing some EDA\n",
    "print(\"Available columns\")\n",
    "wildfires_in_proximity.columns\n"
   ]
  },
  {
   "cell_type": "code",
   "execution_count": 5,
   "metadata": {},
   "outputs": [
    {
     "data": {
      "text/html": [
       "<div><style>\n",
       ".dataframe > thead > tr,\n",
       ".dataframe > tbody > tr {\n",
       "  text-align: right;\n",
       "  white-space: pre-wrap;\n",
       "}\n",
       "</style>\n",
       "<small>shape: (5, 2)</small><table border=\"1\" class=\"dataframe\"><thead><tr><th>Assigned_Fire_Type</th><th>len</th></tr><tr><td>str</td><td>u32</td></tr></thead><tbody><tr><td>&quot;Wildfire&quot;</td><td>36813</td></tr><tr><td>&quot;Likely Wildfire&quot;</td><td>1562</td></tr><tr><td>&quot;Unknown - Likely Prescribed Fi…</td><td>124</td></tr><tr><td>&quot;Prescribed Fire&quot;</td><td>13920</td></tr><tr><td>&quot;Unknown - Likely Wildfire&quot;</td><td>43</td></tr></tbody></table></div>"
      ],
      "text/plain": [
       "shape: (5, 2)\n",
       "┌─────────────────────────────────┬───────┐\n",
       "│ Assigned_Fire_Type              ┆ len   │\n",
       "│ ---                             ┆ ---   │\n",
       "│ str                             ┆ u32   │\n",
       "╞═════════════════════════════════╪═══════╡\n",
       "│ Wildfire                        ┆ 36813 │\n",
       "│ Likely Wildfire                 ┆ 1562  │\n",
       "│ Unknown - Likely Prescribed Fi… ┆ 124   │\n",
       "│ Prescribed Fire                 ┆ 13920 │\n",
       "│ Unknown - Likely Wildfire       ┆ 43    │\n",
       "└─────────────────────────────────┴───────┘"
      ]
     },
     "execution_count": 5,
     "metadata": {},
     "output_type": "execute_result"
    }
   ],
   "source": [
    "wildfires_in_proximity.group_by(\"Assigned_Fire_Type\").len()"
   ]
  },
  {
   "cell_type": "code",
   "execution_count": 6,
   "metadata": {},
   "outputs": [
    {
     "data": {
      "text/html": [
       "<div><style>\n",
       ".dataframe > thead > tr,\n",
       ".dataframe > tbody > tr {\n",
       "  text-align: right;\n",
       "  white-space: pre-wrap;\n",
       "}\n",
       "</style>\n",
       "<small>shape: (2, 2)</small><table border=\"1\" class=\"dataframe\"><thead><tr><th>Circle_Flag</th><th>len</th></tr><tr><td>f64</td><td>u32</td></tr></thead><tbody><tr><td>null</td><td>47636</td></tr><tr><td>1.0</td><td>4826</td></tr></tbody></table></div>"
      ],
      "text/plain": [
       "shape: (2, 2)\n",
       "┌─────────────┬───────┐\n",
       "│ Circle_Flag ┆ len   │\n",
       "│ ---         ┆ ---   │\n",
       "│ f64         ┆ u32   │\n",
       "╞═════════════╪═══════╡\n",
       "│ null        ┆ 47636 │\n",
       "│ 1.0         ┆ 4826  │\n",
       "└─────────────┴───────┘"
      ]
     },
     "execution_count": 6,
     "metadata": {},
     "output_type": "execute_result"
    }
   ],
   "source": [
    "wildfires_in_proximity.group_by(\"Circle_Flag\").len() # too many nulls, can ignore"
   ]
  },
  {
   "cell_type": "code",
   "execution_count": 7,
   "metadata": {},
   "outputs": [
    {
     "data": {
      "text/html": [
       "<div><style>\n",
       ".dataframe > thead > tr,\n",
       ".dataframe > tbody > tr {\n",
       "  text-align: right;\n",
       "  white-space: pre-wrap;\n",
       "}\n",
       "</style>\n",
       "<small>shape: (0, 27)</small><table border=\"1\" class=\"dataframe\"><thead><tr><th>OBJECTID</th><th>USGS_Assigned_ID</th><th>Assigned_Fire_Type</th><th>Fire_Year</th><th>Fire_Polygon_Tier</th><th>Fire_Attribute_Tiers</th><th>GIS_Acres</th><th>GIS_Hectares</th><th>Source_Datasets</th><th>Listed_Fire_Types</th><th>Listed_Fire_Names</th><th>Listed_Fire_Codes</th><th>Listed_Fire_IDs</th><th>Listed_Fire_IRWIN_IDs</th><th>Listed_Fire_Dates</th><th>Listed_Fire_Causes</th><th>Listed_Fire_Cause_Class</th><th>Listed_Rx_Reported_Acres</th><th>Listed_Map_Digitize_Methods</th><th>Wildfire_and_Rx_Flag</th><th>Overlap_Within_1_or_2_Flag</th><th>Circleness_Scale</th><th>Circle_Flag</th><th>Exclude_From_Summary_Rasters</th><th>Shape_Length</th><th>Shape_Area</th><th>Closest_Distance_Miles</th></tr><tr><td>i64</td><td>i64</td><td>str</td><td>i64</td><td>i64</td><td>str</td><td>f64</td><td>f64</td><td>str</td><td>str</td><td>str</td><td>str</td><td>str</td><td>str</td><td>str</td><td>str</td><td>str</td><td>str</td><td>str</td><td>str</td><td>str</td><td>f64</td><td>f64</td><td>str</td><td>f64</td><td>f64</td><td>f64</td></tr></thead><tbody></tbody></table></div>"
      ],
      "text/plain": [
       "shape: (0, 27)\n",
       "┌──────────┬───────────┬───────────┬───────────┬───┬───────────┬───────────┬───────────┬───────────┐\n",
       "│ OBJECTID ┆ USGS_Assi ┆ Assigned_ ┆ Fire_Year ┆ … ┆ Exclude_F ┆ Shape_Len ┆ Shape_Are ┆ Closest_D │\n",
       "│ ---      ┆ gned_ID   ┆ Fire_Type ┆ ---       ┆   ┆ rom_Summa ┆ gth       ┆ a         ┆ istance_M │\n",
       "│ i64      ┆ ---       ┆ ---       ┆ i64       ┆   ┆ ry_Raster ┆ ---       ┆ ---       ┆ iles      │\n",
       "│          ┆ i64       ┆ str       ┆           ┆   ┆ s         ┆ f64       ┆ f64       ┆ ---       │\n",
       "│          ┆           ┆           ┆           ┆   ┆ ---       ┆           ┆           ┆ f64       │\n",
       "│          ┆           ┆           ┆           ┆   ┆ str       ┆           ┆           ┆           │\n",
       "╞══════════╪═══════════╪═══════════╪═══════════╪═══╪═══════════╪═══════════╪═══════════╪═══════════╡\n",
       "└──────────┴───────────┴───────────┴───────────┴───┴───────────┴───────────┴───────────┴───────────┘"
      ]
     },
     "execution_count": 7,
     "metadata": {},
     "output_type": "execute_result"
    }
   ],
   "source": [
    "wildfires_in_proximity.filter(pl.col(\"OBJECTID\") != pl.col(\"USGS_Assigned_ID\")) # identical columns"
   ]
  },
  {
   "cell_type": "code",
   "execution_count": 8,
   "metadata": {},
   "outputs": [
    {
     "name": "stdout",
     "output_type": "stream",
     "text": [
      "Min GIS acres burnt\n",
      "shape: (1, 1)\n",
      "┌───────────┐\n",
      "│ GIS_Acres │\n",
      "│ ---       │\n",
      "│ f64       │\n",
      "╞═══════════╡\n",
      "│ 0.000005  │\n",
      "└───────────┘\n",
      "Max GIS acres burnt\n",
      "shape: (1, 1)\n",
      "┌───────────┐\n",
      "│ GIS_Acres │\n",
      "│ ---       │\n",
      "│ f64       │\n",
      "╞═══════════╡\n",
      "│ 1.0327e6  │\n",
      "└───────────┘\n"
     ]
    }
   ],
   "source": [
    "print(\"Min GIS acres burnt\")\n",
    "print(wildfires_in_proximity.select(\"GIS_Acres\").min())\n",
    "\n",
    "print(\"Max GIS acres burnt\")\n",
    "print(wildfires_in_proximity.select(\"GIS_Acres\").max())"
   ]
  },
  {
   "cell_type": "code",
   "execution_count": 9,
   "metadata": {},
   "outputs": [
    {
     "data": {
      "text/html": [
       "<div><style>\n",
       ".dataframe > thead > tr,\n",
       ".dataframe > tbody > tr {\n",
       "  text-align: right;\n",
       "  white-space: pre-wrap;\n",
       "}\n",
       "</style>\n",
       "<small>shape: (52_462, 8)</small><table border=\"1\" class=\"dataframe\"><thead><tr><th>USGS_Assigned_ID</th><th>Assigned_Fire_Type</th><th>Fire_Year</th><th>GIS_Acres</th><th>Circleness_Scale</th><th>Shape_Length</th><th>Shape_Area</th><th>Closest_Distance_Miles</th></tr><tr><td>i64</td><td>str</td><td>i64</td><td>f64</td><td>f64</td><td>f64</td><td>f64</td><td>f64</td></tr></thead><tbody><tr><td>14600</td><td>&quot;Wildfire&quot;</td><td>1964</td><td>65338.877636</td><td>0.263753</td><td>112240.801495</td><td>2.6442e8</td><td>250.77864</td></tr><tr><td>14601</td><td>&quot;Wildfire&quot;</td><td>1964</td><td>55960.694158</td><td>0.224592</td><td>112566.141954</td><td>2.2646e8</td><td>76.420104</td></tr><tr><td>14602</td><td>&quot;Wildfire&quot;</td><td>1964</td><td>19218.105903</td><td>0.138493</td><td>84004.974692</td><td>7.7773e7</td><td>327.916719</td></tr><tr><td>14603</td><td>&quot;Wildfire&quot;</td><td>1964</td><td>18712.494746</td><td>0.39196</td><td>49273.004457</td><td>7.5727e7</td><td>198.853859</td></tr><tr><td>14604</td><td>&quot;Wildfire&quot;</td><td>1964</td><td>16887.001024</td><td>0.392989</td><td>46746.577459</td><td>6.8339e7</td><td>219.778526</td></tr><tr><td>&hellip;</td><td>&hellip;</td><td>&hellip;</td><td>&hellip;</td><td>&hellip;</td><td>&hellip;</td><td>&hellip;</td><td>&hellip;</td></tr><tr><td>135056</td><td>&quot;Prescribed Fire&quot;</td><td>2020</td><td>14.545208</td><td>0.29925</td><td>1572.196739</td><td>58862.370422</td><td>453.342716</td></tr><tr><td>135057</td><td>&quot;Prescribed Fire&quot;</td><td>2020</td><td>16.412148</td><td>0.177425</td><td>2168.90074</td><td>66417.60679</td><td>406.63243</td></tr><tr><td>135058</td><td>&quot;Prescribed Fire&quot;</td><td>2020</td><td>7.050837</td><td>0.374368</td><td>978.666221</td><td>28533.725602</td><td>449.230338</td></tr><tr><td>135059</td><td>&quot;Prescribed Fire&quot;</td><td>2020</td><td>9.342668</td><td>0.123888</td><td>1958.32666</td><td>37808.434086</td><td>448.331439</td></tr><tr><td>135061</td><td>&quot;Prescribed Fire&quot;</td><td>2020</td><td>0.969953</td><td>0.744794</td><td>257.348237</td><td>3925.260742</td><td>446.202888</td></tr></tbody></table></div>"
      ],
      "text/plain": [
       "shape: (52_462, 8)\n",
       "┌────────────┬────────────┬───────────┬────────────┬───────────┬───────────┬───────────┬───────────┐\n",
       "│ USGS_Assig ┆ Assigned_F ┆ Fire_Year ┆ GIS_Acres  ┆ Circlenes ┆ Shape_Len ┆ Shape_Are ┆ Closest_D │\n",
       "│ ned_ID     ┆ ire_Type   ┆ ---       ┆ ---        ┆ s_Scale   ┆ gth       ┆ a         ┆ istance_M │\n",
       "│ ---        ┆ ---        ┆ i64       ┆ f64        ┆ ---       ┆ ---       ┆ ---       ┆ iles      │\n",
       "│ i64        ┆ str        ┆           ┆            ┆ f64       ┆ f64       ┆ f64       ┆ ---       │\n",
       "│            ┆            ┆           ┆            ┆           ┆           ┆           ┆ f64       │\n",
       "╞════════════╪════════════╪═══════════╪════════════╪═══════════╪═══════════╪═══════════╪═══════════╡\n",
       "│ 14600      ┆ Wildfire   ┆ 1964      ┆ 65338.8776 ┆ 0.263753  ┆ 112240.80 ┆ 2.6442e8  ┆ 250.77864 │\n",
       "│            ┆            ┆           ┆ 36         ┆           ┆ 1495      ┆           ┆           │\n",
       "│ 14601      ┆ Wildfire   ┆ 1964      ┆ 55960.6941 ┆ 0.224592  ┆ 112566.14 ┆ 2.2646e8  ┆ 76.420104 │\n",
       "│            ┆            ┆           ┆ 58         ┆           ┆ 1954      ┆           ┆           │\n",
       "│ 14602      ┆ Wildfire   ┆ 1964      ┆ 19218.1059 ┆ 0.138493  ┆ 84004.974 ┆ 7.7773e7  ┆ 327.91671 │\n",
       "│            ┆            ┆           ┆ 03         ┆           ┆ 692       ┆           ┆ 9         │\n",
       "│ 14603      ┆ Wildfire   ┆ 1964      ┆ 18712.4947 ┆ 0.39196   ┆ 49273.004 ┆ 7.5727e7  ┆ 198.85385 │\n",
       "│            ┆            ┆           ┆ 46         ┆           ┆ 457       ┆           ┆ 9         │\n",
       "│ 14604      ┆ Wildfire   ┆ 1964      ┆ 16887.0010 ┆ 0.392989  ┆ 46746.577 ┆ 6.8339e7  ┆ 219.77852 │\n",
       "│            ┆            ┆           ┆ 24         ┆           ┆ 459       ┆           ┆ 6         │\n",
       "│ …          ┆ …          ┆ …         ┆ …          ┆ …         ┆ …         ┆ …         ┆ …         │\n",
       "│ 135056     ┆ Prescribed ┆ 2020      ┆ 14.545208  ┆ 0.29925   ┆ 1572.1967 ┆ 58862.370 ┆ 453.34271 │\n",
       "│            ┆ Fire       ┆           ┆            ┆           ┆ 39        ┆ 422       ┆ 6         │\n",
       "│ 135057     ┆ Prescribed ┆ 2020      ┆ 16.412148  ┆ 0.177425  ┆ 2168.9007 ┆ 66417.606 ┆ 406.63243 │\n",
       "│            ┆ Fire       ┆           ┆            ┆           ┆ 4         ┆ 79        ┆           │\n",
       "│ 135058     ┆ Prescribed ┆ 2020      ┆ 7.050837   ┆ 0.374368  ┆ 978.66622 ┆ 28533.725 ┆ 449.23033 │\n",
       "│            ┆ Fire       ┆           ┆            ┆           ┆ 1         ┆ 602       ┆ 8         │\n",
       "│ 135059     ┆ Prescribed ┆ 2020      ┆ 9.342668   ┆ 0.123888  ┆ 1958.3266 ┆ 37808.434 ┆ 448.33143 │\n",
       "│            ┆ Fire       ┆           ┆            ┆           ┆ 6         ┆ 086       ┆ 9         │\n",
       "│ 135061     ┆ Prescribed ┆ 2020      ┆ 0.969953   ┆ 0.744794  ┆ 257.34823 ┆ 3925.2607 ┆ 446.20288 │\n",
       "│            ┆ Fire       ┆           ┆            ┆           ┆ 7         ┆ 42        ┆ 8         │\n",
       "└────────────┴────────────┴───────────┴────────────┴───────────┴───────────┴───────────┴───────────┘"
      ]
     },
     "execution_count": 9,
     "metadata": {},
     "output_type": "execute_result"
    }
   ],
   "source": [
    "# selecting fields that might be useful to estimate smoke\n",
    "wildfires_compact_df = (\n",
    "    wildfires_in_proximity\n",
    "    .select([\n",
    "        # 'OBJECTID', # since the value is same as USGS_Assigned_ID\n",
    "        'USGS_Assigned_ID',\n",
    "        'Assigned_Fire_Type',\n",
    "        'Fire_Year',\n",
    "        # 'Fire_Polygon_Tier',\n",
    "        # 'Fire_Attribute_Tiers',\n",
    "        'GIS_Acres',\n",
    "        # 'GIS_Hectares', # since we are already considering area under the field GIS_Acres\n",
    "        # 'Source_Datasets',\n",
    "        # 'Listed_Fire_Types',\n",
    "        # 'Listed_Fire_Names',\n",
    "        # 'Listed_Fire_Codes',\n",
    "        # 'Listed_Fire_IDs',\n",
    "        # 'Listed_Fire_IRWIN_IDs',\n",
    "        # 'Listed_Fire_Dates',\n",
    "        # 'Listed_Fire_Causes',\n",
    "        # 'Listed_Fire_Cause_Class',\n",
    "        # 'Listed_Rx_Reported_Acres',\n",
    "        # 'Listed_Map_Digitize_Methods',\n",
    "        # 'Wildfire_and_Rx_Flag',\n",
    "        # 'Overlap_Within_1_or_2_Flag',\n",
    "        'Circleness_Scale',\n",
    "        # 'Circle_Flag', # since majority are nulls, and we already considered Circleness_Scale\n",
    "        # 'Exclude_From_Summary_Rasters',\n",
    "        'Shape_Length',\n",
    "        'Shape_Area',\n",
    "        'Closest_Distance_Miles'\n",
    "    ])\n",
    ")\n",
    "\n",
    "wildfires_compact_df"
   ]
  },
  {
   "cell_type": "code",
   "execution_count": 10,
   "metadata": {},
   "outputs": [
    {
     "data": {
      "text/html": [
       "<div><style>\n",
       ".dataframe > thead > tr,\n",
       ".dataframe > tbody > tr {\n",
       "  text-align: right;\n",
       "  white-space: pre-wrap;\n",
       "}\n",
       "</style>\n",
       "<small>shape: (5, 2)</small><table border=\"1\" class=\"dataframe\"><thead><tr><th>fire_type</th><th>factor</th></tr><tr><td>str</td><td>f64</td></tr></thead><tbody><tr><td>&quot;Unknown - Likely Wildfire&quot;</td><td>0.7</td></tr><tr><td>&quot;Likely Wildfire&quot;</td><td>0.8</td></tr><tr><td>&quot;Unknown - Likely Prescribed Fi…</td><td>0.7</td></tr><tr><td>&quot;Prescribed Fire&quot;</td><td>1.0</td></tr><tr><td>&quot;Wildfire&quot;</td><td>1.0</td></tr></tbody></table></div>"
      ],
      "text/plain": [
       "shape: (5, 2)\n",
       "┌─────────────────────────────────┬────────┐\n",
       "│ fire_type                       ┆ factor │\n",
       "│ ---                             ┆ ---    │\n",
       "│ str                             ┆ f64    │\n",
       "╞═════════════════════════════════╪════════╡\n",
       "│ Unknown - Likely Wildfire       ┆ 0.7    │\n",
       "│ Likely Wildfire                 ┆ 0.8    │\n",
       "│ Unknown - Likely Prescribed Fi… ┆ 0.7    │\n",
       "│ Prescribed Fire                 ┆ 1.0    │\n",
       "│ Wildfire                        ┆ 1.0    │\n",
       "└─────────────────────────────────┴────────┘"
      ]
     },
     "execution_count": 10,
     "metadata": {},
     "output_type": "execute_result"
    }
   ],
   "source": [
    "# creating a dataframe to map the assigned firetypes to a value\n",
    "\n",
    "firetypes_df = pl.DataFrame(\n",
    "    [\n",
    "        {\n",
    "            \"fire_type\": \"Unknown - Likely Wildfire\",\n",
    "            \"factor\": 0.7\n",
    "        },\n",
    "        {\n",
    "            \"fire_type\": \"Likely Wildfire\",\n",
    "            \"factor\": 0.8\n",
    "        },\n",
    "        {\n",
    "            \"fire_type\": \"Unknown - Likely Prescribed Fire\",\n",
    "            \"factor\": 0.7\n",
    "        },\n",
    "        {\n",
    "            \"fire_type\": \"Prescribed Fire\",\n",
    "            \"factor\": 1.0\n",
    "        },\n",
    "        {\n",
    "            \"fire_type\": \"Wildfire\",\n",
    "            \"factor\": 1.0\n",
    "        }\n",
    "    ]\n",
    ")\n",
    "\n",
    "firetypes_df"
   ]
  },
  {
   "cell_type": "code",
   "execution_count": 11,
   "metadata": {},
   "outputs": [
    {
     "data": {
      "text/html": [
       "<div><style>\n",
       ".dataframe > thead > tr,\n",
       ".dataframe > tbody > tr {\n",
       "  text-align: right;\n",
       "  white-space: pre-wrap;\n",
       "}\n",
       "</style>\n",
       "<small>shape: (52_462, 9)</small><table border=\"1\" class=\"dataframe\"><thead><tr><th>USGS_Assigned_ID</th><th>Assigned_Fire_Type</th><th>Fire_Year</th><th>GIS_Acres</th><th>Circleness_Scale</th><th>Shape_Length</th><th>Shape_Area</th><th>Closest_Distance_Miles</th><th>fire_type_factor</th></tr><tr><td>i64</td><td>str</td><td>i64</td><td>f64</td><td>f64</td><td>f64</td><td>f64</td><td>f64</td><td>f64</td></tr></thead><tbody><tr><td>14600</td><td>&quot;Wildfire&quot;</td><td>1964</td><td>65338.877636</td><td>0.263753</td><td>112240.801495</td><td>2.6442e8</td><td>250.77864</td><td>1.0</td></tr><tr><td>14601</td><td>&quot;Wildfire&quot;</td><td>1964</td><td>55960.694158</td><td>0.224592</td><td>112566.141954</td><td>2.2646e8</td><td>76.420104</td><td>1.0</td></tr><tr><td>14602</td><td>&quot;Wildfire&quot;</td><td>1964</td><td>19218.105903</td><td>0.138493</td><td>84004.974692</td><td>7.7773e7</td><td>327.916719</td><td>1.0</td></tr><tr><td>14603</td><td>&quot;Wildfire&quot;</td><td>1964</td><td>18712.494746</td><td>0.39196</td><td>49273.004457</td><td>7.5727e7</td><td>198.853859</td><td>1.0</td></tr><tr><td>14604</td><td>&quot;Wildfire&quot;</td><td>1964</td><td>16887.001024</td><td>0.392989</td><td>46746.577459</td><td>6.8339e7</td><td>219.778526</td><td>1.0</td></tr><tr><td>&hellip;</td><td>&hellip;</td><td>&hellip;</td><td>&hellip;</td><td>&hellip;</td><td>&hellip;</td><td>&hellip;</td><td>&hellip;</td><td>&hellip;</td></tr><tr><td>135056</td><td>&quot;Prescribed Fire&quot;</td><td>2020</td><td>14.545208</td><td>0.29925</td><td>1572.196739</td><td>58862.370422</td><td>453.342716</td><td>1.0</td></tr><tr><td>135057</td><td>&quot;Prescribed Fire&quot;</td><td>2020</td><td>16.412148</td><td>0.177425</td><td>2168.90074</td><td>66417.60679</td><td>406.63243</td><td>1.0</td></tr><tr><td>135058</td><td>&quot;Prescribed Fire&quot;</td><td>2020</td><td>7.050837</td><td>0.374368</td><td>978.666221</td><td>28533.725602</td><td>449.230338</td><td>1.0</td></tr><tr><td>135059</td><td>&quot;Prescribed Fire&quot;</td><td>2020</td><td>9.342668</td><td>0.123888</td><td>1958.32666</td><td>37808.434086</td><td>448.331439</td><td>1.0</td></tr><tr><td>135061</td><td>&quot;Prescribed Fire&quot;</td><td>2020</td><td>0.969953</td><td>0.744794</td><td>257.348237</td><td>3925.260742</td><td>446.202888</td><td>1.0</td></tr></tbody></table></div>"
      ],
      "text/plain": [
       "shape: (52_462, 9)\n",
       "┌───────────┬───────────┬───────────┬───────────┬───┬───────────┬───────────┬───────────┬──────────┐\n",
       "│ USGS_Assi ┆ Assigned_ ┆ Fire_Year ┆ GIS_Acres ┆ … ┆ Shape_Len ┆ Shape_Are ┆ Closest_D ┆ fire_typ │\n",
       "│ gned_ID   ┆ Fire_Type ┆ ---       ┆ ---       ┆   ┆ gth       ┆ a         ┆ istance_M ┆ e_factor │\n",
       "│ ---       ┆ ---       ┆ i64       ┆ f64       ┆   ┆ ---       ┆ ---       ┆ iles      ┆ ---      │\n",
       "│ i64       ┆ str       ┆           ┆           ┆   ┆ f64       ┆ f64       ┆ ---       ┆ f64      │\n",
       "│           ┆           ┆           ┆           ┆   ┆           ┆           ┆ f64       ┆          │\n",
       "╞═══════════╪═══════════╪═══════════╪═══════════╪═══╪═══════════╪═══════════╪═══════════╪══════════╡\n",
       "│ 14600     ┆ Wildfire  ┆ 1964      ┆ 65338.877 ┆ … ┆ 112240.80 ┆ 2.6442e8  ┆ 250.77864 ┆ 1.0      │\n",
       "│           ┆           ┆           ┆ 636       ┆   ┆ 1495      ┆           ┆           ┆          │\n",
       "│ 14601     ┆ Wildfire  ┆ 1964      ┆ 55960.694 ┆ … ┆ 112566.14 ┆ 2.2646e8  ┆ 76.420104 ┆ 1.0      │\n",
       "│           ┆           ┆           ┆ 158       ┆   ┆ 1954      ┆           ┆           ┆          │\n",
       "│ 14602     ┆ Wildfire  ┆ 1964      ┆ 19218.105 ┆ … ┆ 84004.974 ┆ 7.7773e7  ┆ 327.91671 ┆ 1.0      │\n",
       "│           ┆           ┆           ┆ 903       ┆   ┆ 692       ┆           ┆ 9         ┆          │\n",
       "│ 14603     ┆ Wildfire  ┆ 1964      ┆ 18712.494 ┆ … ┆ 49273.004 ┆ 7.5727e7  ┆ 198.85385 ┆ 1.0      │\n",
       "│           ┆           ┆           ┆ 746       ┆   ┆ 457       ┆           ┆ 9         ┆          │\n",
       "│ 14604     ┆ Wildfire  ┆ 1964      ┆ 16887.001 ┆ … ┆ 46746.577 ┆ 6.8339e7  ┆ 219.77852 ┆ 1.0      │\n",
       "│           ┆           ┆           ┆ 024       ┆   ┆ 459       ┆           ┆ 6         ┆          │\n",
       "│ …         ┆ …         ┆ …         ┆ …         ┆ … ┆ …         ┆ …         ┆ …         ┆ …        │\n",
       "│ 135056    ┆ Prescribe ┆ 2020      ┆ 14.545208 ┆ … ┆ 1572.1967 ┆ 58862.370 ┆ 453.34271 ┆ 1.0      │\n",
       "│           ┆ d Fire    ┆           ┆           ┆   ┆ 39        ┆ 422       ┆ 6         ┆          │\n",
       "│ 135057    ┆ Prescribe ┆ 2020      ┆ 16.412148 ┆ … ┆ 2168.9007 ┆ 66417.606 ┆ 406.63243 ┆ 1.0      │\n",
       "│           ┆ d Fire    ┆           ┆           ┆   ┆ 4         ┆ 79        ┆           ┆          │\n",
       "│ 135058    ┆ Prescribe ┆ 2020      ┆ 7.050837  ┆ … ┆ 978.66622 ┆ 28533.725 ┆ 449.23033 ┆ 1.0      │\n",
       "│           ┆ d Fire    ┆           ┆           ┆   ┆ 1         ┆ 602       ┆ 8         ┆          │\n",
       "│ 135059    ┆ Prescribe ┆ 2020      ┆ 9.342668  ┆ … ┆ 1958.3266 ┆ 37808.434 ┆ 448.33143 ┆ 1.0      │\n",
       "│           ┆ d Fire    ┆           ┆           ┆   ┆ 6         ┆ 086       ┆ 9         ┆          │\n",
       "│ 135061    ┆ Prescribe ┆ 2020      ┆ 0.969953  ┆ … ┆ 257.34823 ┆ 3925.2607 ┆ 446.20288 ┆ 1.0      │\n",
       "│           ┆ d Fire    ┆           ┆           ┆   ┆ 7         ┆ 42        ┆ 8         ┆          │\n",
       "└───────────┴───────────┴───────────┴───────────┴───┴───────────┴───────────┴───────────┴──────────┘"
      ]
     },
     "execution_count": 11,
     "metadata": {},
     "output_type": "execute_result"
    }
   ],
   "source": [
    "wildfires_enriched_1 = (\n",
    "    wildfires_compact_df\n",
    "    .join(\n",
    "        firetypes_df,\n",
    "        left_on = \"Assigned_Fire_Type\",\n",
    "        right_on = \"fire_type\"\n",
    "    )\n",
    "    .rename(\n",
    "        {\n",
    "            \"factor\": \"fire_type_factor\"\n",
    "        }\n",
    "    )\n",
    ")\n",
    "wildfires_enriched_1"
   ]
  },
  {
   "cell_type": "code",
   "execution_count": 12,
   "metadata": {},
   "outputs": [
    {
     "data": {
      "text/html": [
       "<div><style>\n",
       ".dataframe > thead > tr,\n",
       ".dataframe > tbody > tr {\n",
       "  text-align: right;\n",
       "  white-space: pre-wrap;\n",
       "}\n",
       "</style>\n",
       "<small>shape: (52_462, 11)</small><table border=\"1\" class=\"dataframe\"><thead><tr><th>USGS_Assigned_ID</th><th>Assigned_Fire_Type</th><th>Fire_Year</th><th>GIS_Acres</th><th>Circleness_Scale</th><th>Shape_Length</th><th>Shape_Area</th><th>Closest_Distance_Miles</th><th>fire_type_factor</th><th>distance_factor</th><th>area_factor</th></tr><tr><td>i64</td><td>str</td><td>i64</td><td>f64</td><td>f64</td><td>f64</td><td>f64</td><td>f64</td><td>f64</td><td>f64</td><td>f64</td></tr></thead><tbody><tr><td>14600</td><td>&quot;Wildfire&quot;</td><td>1964</td><td>65338.877636</td><td>0.263753</td><td>112240.801495</td><td>2.6442e8</td><td>250.77864</td><td>1.0</td><td>0.003988</td><td>255.61</td></tr><tr><td>14601</td><td>&quot;Wildfire&quot;</td><td>1964</td><td>55960.694158</td><td>0.224592</td><td>112566.141954</td><td>2.2646e8</td><td>76.420104</td><td>1.0</td><td>0.013086</td><td>236.56</td></tr><tr><td>14602</td><td>&quot;Wildfire&quot;</td><td>1964</td><td>19218.105903</td><td>0.138493</td><td>84004.974692</td><td>7.7773e7</td><td>327.916719</td><td>1.0</td><td>0.00305</td><td>138.63</td></tr><tr><td>14603</td><td>&quot;Wildfire&quot;</td><td>1964</td><td>18712.494746</td><td>0.39196</td><td>49273.004457</td><td>7.5727e7</td><td>198.853859</td><td>1.0</td><td>0.005029</td><td>136.79</td></tr><tr><td>14604</td><td>&quot;Wildfire&quot;</td><td>1964</td><td>16887.001024</td><td>0.392989</td><td>46746.577459</td><td>6.8339e7</td><td>219.778526</td><td>1.0</td><td>0.00455</td><td>129.95</td></tr><tr><td>&hellip;</td><td>&hellip;</td><td>&hellip;</td><td>&hellip;</td><td>&hellip;</td><td>&hellip;</td><td>&hellip;</td><td>&hellip;</td><td>&hellip;</td><td>&hellip;</td><td>&hellip;</td></tr><tr><td>135056</td><td>&quot;Prescribed Fire&quot;</td><td>2020</td><td>14.545208</td><td>0.29925</td><td>1572.196739</td><td>58862.370422</td><td>453.342716</td><td>1.0</td><td>0.002206</td><td>3.81</td></tr><tr><td>135057</td><td>&quot;Prescribed Fire&quot;</td><td>2020</td><td>16.412148</td><td>0.177425</td><td>2168.90074</td><td>66417.60679</td><td>406.63243</td><td>1.0</td><td>0.002459</td><td>4.05</td></tr><tr><td>135058</td><td>&quot;Prescribed Fire&quot;</td><td>2020</td><td>7.050837</td><td>0.374368</td><td>978.666221</td><td>28533.725602</td><td>449.230338</td><td>1.0</td><td>0.002226</td><td>2.66</td></tr><tr><td>135059</td><td>&quot;Prescribed Fire&quot;</td><td>2020</td><td>9.342668</td><td>0.123888</td><td>1958.32666</td><td>37808.434086</td><td>448.331439</td><td>1.0</td><td>0.00223</td><td>3.06</td></tr><tr><td>135061</td><td>&quot;Prescribed Fire&quot;</td><td>2020</td><td>0.969953</td><td>0.744794</td><td>257.348237</td><td>3925.260742</td><td>446.202888</td><td>1.0</td><td>0.002241</td><td>0.98</td></tr></tbody></table></div>"
      ],
      "text/plain": [
       "shape: (52_462, 11)\n",
       "┌───────────┬───────────┬───────────┬───────────┬───┬───────────┬───────────┬───────────┬──────────┐\n",
       "│ USGS_Assi ┆ Assigned_ ┆ Fire_Year ┆ GIS_Acres ┆ … ┆ Closest_D ┆ fire_type ┆ distance_ ┆ area_fac │\n",
       "│ gned_ID   ┆ Fire_Type ┆ ---       ┆ ---       ┆   ┆ istance_M ┆ _factor   ┆ factor    ┆ tor      │\n",
       "│ ---       ┆ ---       ┆ i64       ┆ f64       ┆   ┆ iles      ┆ ---       ┆ ---       ┆ ---      │\n",
       "│ i64       ┆ str       ┆           ┆           ┆   ┆ ---       ┆ f64       ┆ f64       ┆ f64      │\n",
       "│           ┆           ┆           ┆           ┆   ┆ f64       ┆           ┆           ┆          │\n",
       "╞═══════════╪═══════════╪═══════════╪═══════════╪═══╪═══════════╪═══════════╪═══════════╪══════════╡\n",
       "│ 14600     ┆ Wildfire  ┆ 1964      ┆ 65338.877 ┆ … ┆ 250.77864 ┆ 1.0       ┆ 0.003988  ┆ 255.61   │\n",
       "│           ┆           ┆           ┆ 636       ┆   ┆           ┆           ┆           ┆          │\n",
       "│ 14601     ┆ Wildfire  ┆ 1964      ┆ 55960.694 ┆ … ┆ 76.420104 ┆ 1.0       ┆ 0.013086  ┆ 236.56   │\n",
       "│           ┆           ┆           ┆ 158       ┆   ┆           ┆           ┆           ┆          │\n",
       "│ 14602     ┆ Wildfire  ┆ 1964      ┆ 19218.105 ┆ … ┆ 327.91671 ┆ 1.0       ┆ 0.00305   ┆ 138.63   │\n",
       "│           ┆           ┆           ┆ 903       ┆   ┆ 9         ┆           ┆           ┆          │\n",
       "│ 14603     ┆ Wildfire  ┆ 1964      ┆ 18712.494 ┆ … ┆ 198.85385 ┆ 1.0       ┆ 0.005029  ┆ 136.79   │\n",
       "│           ┆           ┆           ┆ 746       ┆   ┆ 9         ┆           ┆           ┆          │\n",
       "│ 14604     ┆ Wildfire  ┆ 1964      ┆ 16887.001 ┆ … ┆ 219.77852 ┆ 1.0       ┆ 0.00455   ┆ 129.95   │\n",
       "│           ┆           ┆           ┆ 024       ┆   ┆ 6         ┆           ┆           ┆          │\n",
       "│ …         ┆ …         ┆ …         ┆ …         ┆ … ┆ …         ┆ …         ┆ …         ┆ …        │\n",
       "│ 135056    ┆ Prescribe ┆ 2020      ┆ 14.545208 ┆ … ┆ 453.34271 ┆ 1.0       ┆ 0.002206  ┆ 3.81     │\n",
       "│           ┆ d Fire    ┆           ┆           ┆   ┆ 6         ┆           ┆           ┆          │\n",
       "│ 135057    ┆ Prescribe ┆ 2020      ┆ 16.412148 ┆ … ┆ 406.63243 ┆ 1.0       ┆ 0.002459  ┆ 4.05     │\n",
       "│           ┆ d Fire    ┆           ┆           ┆   ┆           ┆           ┆           ┆          │\n",
       "│ 135058    ┆ Prescribe ┆ 2020      ┆ 7.050837  ┆ … ┆ 449.23033 ┆ 1.0       ┆ 0.002226  ┆ 2.66     │\n",
       "│           ┆ d Fire    ┆           ┆           ┆   ┆ 8         ┆           ┆           ┆          │\n",
       "│ 135059    ┆ Prescribe ┆ 2020      ┆ 9.342668  ┆ … ┆ 448.33143 ┆ 1.0       ┆ 0.00223   ┆ 3.06     │\n",
       "│           ┆ d Fire    ┆           ┆           ┆   ┆ 9         ┆           ┆           ┆          │\n",
       "│ 135061    ┆ Prescribe ┆ 2020      ┆ 0.969953  ┆ … ┆ 446.20288 ┆ 1.0       ┆ 0.002241  ┆ 0.98     │\n",
       "│           ┆ d Fire    ┆           ┆           ┆   ┆ 8         ┆           ┆           ┆          │\n",
       "└───────────┴───────────┴───────────┴───────────┴───┴───────────┴───────────┴───────────┴──────────┘"
      ]
     },
     "execution_count": 12,
     "metadata": {},
     "output_type": "execute_result"
    }
   ],
   "source": [
    "# calculating a shape factor by using the shape length, shape area and circleness\n",
    "\n",
    "wildfires_enriched_2 = (\n",
    "    wildfires_enriched_1\n",
    "    .with_columns(\n",
    "        (1/pl.col(\"Closest_Distance_Miles\")).alias(\"distance_factor\"), # assuming the smoke is invesrly proportional\n",
    "        (pl.col(\"GIS_Acres\").sqrt().round(2)).alias(\"area_factor\"), # to make sure that area doesnt over inflate the smoke\n",
    "    )\n",
    ")\n",
    "\n",
    "wildfires_enriched_2"
   ]
  },
  {
   "cell_type": "code",
   "execution_count": 13,
   "metadata": {},
   "outputs": [
    {
     "data": {
      "text/html": [
       "<div><style>\n",
       ".dataframe > thead > tr,\n",
       ".dataframe > tbody > tr {\n",
       "  text-align: right;\n",
       "  white-space: pre-wrap;\n",
       "}\n",
       "</style>\n",
       "<small>shape: (52_462, 12)</small><table border=\"1\" class=\"dataframe\"><thead><tr><th>USGS_Assigned_ID</th><th>Assigned_Fire_Type</th><th>Fire_Year</th><th>GIS_Acres</th><th>Circleness_Scale</th><th>Shape_Length</th><th>Shape_Area</th><th>Closest_Distance_Miles</th><th>fire_type_factor</th><th>distance_factor</th><th>area_factor</th><th>smoke_estimate</th></tr><tr><td>i64</td><td>str</td><td>i64</td><td>f64</td><td>f64</td><td>f64</td><td>f64</td><td>f64</td><td>f64</td><td>f64</td><td>f64</td><td>f64</td></tr></thead><tbody><tr><td>14600</td><td>&quot;Wildfire&quot;</td><td>1964</td><td>65338.877636</td><td>0.263753</td><td>112240.801495</td><td>2.6442e8</td><td>250.77864</td><td>1.0</td><td>0.003988</td><td>255.61</td><td>0.268835</td></tr><tr><td>14601</td><td>&quot;Wildfire&quot;</td><td>1964</td><td>55960.694158</td><td>0.224592</td><td>112566.141954</td><td>2.2646e8</td><td>76.420104</td><td>1.0</td><td>0.013086</td><td>236.56</td><td>0.695231</td></tr><tr><td>14602</td><td>&quot;Wildfire&quot;</td><td>1964</td><td>19218.105903</td><td>0.138493</td><td>84004.974692</td><td>7.7773e7</td><td>327.916719</td><td>1.0</td><td>0.00305</td><td>138.63</td><td>0.058549</td></tr><tr><td>14603</td><td>&quot;Wildfire&quot;</td><td>1964</td><td>18712.494746</td><td>0.39196</td><td>49273.004457</td><td>7.5727e7</td><td>198.853859</td><td>1.0</td><td>0.005029</td><td>136.79</td><td>0.269626</td></tr><tr><td>14604</td><td>&quot;Wildfire&quot;</td><td>1964</td><td>16887.001024</td><td>0.392989</td><td>46746.577459</td><td>6.8339e7</td><td>219.778526</td><td>1.0</td><td>0.00455</td><td>129.95</td><td>0.232365</td></tr><tr><td>&hellip;</td><td>&hellip;</td><td>&hellip;</td><td>&hellip;</td><td>&hellip;</td><td>&hellip;</td><td>&hellip;</td><td>&hellip;</td><td>&hellip;</td><td>&hellip;</td><td>&hellip;</td><td>&hellip;</td></tr><tr><td>135056</td><td>&quot;Prescribed Fire&quot;</td><td>2020</td><td>14.545208</td><td>0.29925</td><td>1572.196739</td><td>58862.370422</td><td>453.342716</td><td>1.0</td><td>0.002206</td><td>3.81</td><td>0.002515</td></tr><tr><td>135057</td><td>&quot;Prescribed Fire&quot;</td><td>2020</td><td>16.412148</td><td>0.177425</td><td>2168.90074</td><td>66417.60679</td><td>406.63243</td><td>1.0</td><td>0.002459</td><td>4.05</td><td>0.001767</td></tr><tr><td>135058</td><td>&quot;Prescribed Fire&quot;</td><td>2020</td><td>7.050837</td><td>0.374368</td><td>978.666221</td><td>28533.725602</td><td>449.230338</td><td>1.0</td><td>0.002226</td><td>2.66</td><td>0.002217</td></tr><tr><td>135059</td><td>&quot;Prescribed Fire&quot;</td><td>2020</td><td>9.342668</td><td>0.123888</td><td>1958.32666</td><td>37808.434086</td><td>448.331439</td><td>1.0</td><td>0.00223</td><td>3.06</td><td>0.000846</td></tr><tr><td>135061</td><td>&quot;Prescribed Fire&quot;</td><td>2020</td><td>0.969953</td><td>0.744794</td><td>257.348237</td><td>3925.260742</td><td>446.202888</td><td>1.0</td><td>0.002241</td><td>0.98</td><td>0.001636</td></tr></tbody></table></div>"
      ],
      "text/plain": [
       "shape: (52_462, 12)\n",
       "┌───────────┬───────────┬───────────┬───────────┬───┬───────────┬───────────┬───────────┬──────────┐\n",
       "│ USGS_Assi ┆ Assigned_ ┆ Fire_Year ┆ GIS_Acres ┆ … ┆ fire_type ┆ distance_ ┆ area_fact ┆ smoke_es │\n",
       "│ gned_ID   ┆ Fire_Type ┆ ---       ┆ ---       ┆   ┆ _factor   ┆ factor    ┆ or        ┆ timate   │\n",
       "│ ---       ┆ ---       ┆ i64       ┆ f64       ┆   ┆ ---       ┆ ---       ┆ ---       ┆ ---      │\n",
       "│ i64       ┆ str       ┆           ┆           ┆   ┆ f64       ┆ f64       ┆ f64       ┆ f64      │\n",
       "╞═══════════╪═══════════╪═══════════╪═══════════╪═══╪═══════════╪═══════════╪═══════════╪══════════╡\n",
       "│ 14600     ┆ Wildfire  ┆ 1964      ┆ 65338.877 ┆ … ┆ 1.0       ┆ 0.003988  ┆ 255.61    ┆ 0.268835 │\n",
       "│           ┆           ┆           ┆ 636       ┆   ┆           ┆           ┆           ┆          │\n",
       "│ 14601     ┆ Wildfire  ┆ 1964      ┆ 55960.694 ┆ … ┆ 1.0       ┆ 0.013086  ┆ 236.56    ┆ 0.695231 │\n",
       "│           ┆           ┆           ┆ 158       ┆   ┆           ┆           ┆           ┆          │\n",
       "│ 14602     ┆ Wildfire  ┆ 1964      ┆ 19218.105 ┆ … ┆ 1.0       ┆ 0.00305   ┆ 138.63    ┆ 0.058549 │\n",
       "│           ┆           ┆           ┆ 903       ┆   ┆           ┆           ┆           ┆          │\n",
       "│ 14603     ┆ Wildfire  ┆ 1964      ┆ 18712.494 ┆ … ┆ 1.0       ┆ 0.005029  ┆ 136.79    ┆ 0.269626 │\n",
       "│           ┆           ┆           ┆ 746       ┆   ┆           ┆           ┆           ┆          │\n",
       "│ 14604     ┆ Wildfire  ┆ 1964      ┆ 16887.001 ┆ … ┆ 1.0       ┆ 0.00455   ┆ 129.95    ┆ 0.232365 │\n",
       "│           ┆           ┆           ┆ 024       ┆   ┆           ┆           ┆           ┆          │\n",
       "│ …         ┆ …         ┆ …         ┆ …         ┆ … ┆ …         ┆ …         ┆ …         ┆ …        │\n",
       "│ 135056    ┆ Prescribe ┆ 2020      ┆ 14.545208 ┆ … ┆ 1.0       ┆ 0.002206  ┆ 3.81      ┆ 0.002515 │\n",
       "│           ┆ d Fire    ┆           ┆           ┆   ┆           ┆           ┆           ┆          │\n",
       "│ 135057    ┆ Prescribe ┆ 2020      ┆ 16.412148 ┆ … ┆ 1.0       ┆ 0.002459  ┆ 4.05      ┆ 0.001767 │\n",
       "│           ┆ d Fire    ┆           ┆           ┆   ┆           ┆           ┆           ┆          │\n",
       "│ 135058    ┆ Prescribe ┆ 2020      ┆ 7.050837  ┆ … ┆ 1.0       ┆ 0.002226  ┆ 2.66      ┆ 0.002217 │\n",
       "│           ┆ d Fire    ┆           ┆           ┆   ┆           ┆           ┆           ┆          │\n",
       "│ 135059    ┆ Prescribe ┆ 2020      ┆ 9.342668  ┆ … ┆ 1.0       ┆ 0.00223   ┆ 3.06      ┆ 0.000846 │\n",
       "│           ┆ d Fire    ┆           ┆           ┆   ┆           ┆           ┆           ┆          │\n",
       "│ 135061    ┆ Prescribe ┆ 2020      ┆ 0.969953  ┆ … ┆ 1.0       ┆ 0.002241  ┆ 0.98      ┆ 0.001636 │\n",
       "│           ┆ d Fire    ┆           ┆           ┆   ┆           ┆           ┆           ┆          │\n",
       "└───────────┴───────────┴───────────┴───────────┴───┴───────────┴───────────┴───────────┴──────────┘"
      ]
     },
     "execution_count": 13,
     "metadata": {},
     "output_type": "execute_result"
    }
   ],
   "source": [
    "wildfires_enriched = (\n",
    "    wildfires_enriched_2\n",
    "    .with_columns(\n",
    "        (pl.col(\"fire_type_factor\") * pl.col(\"distance_factor\") * pl.col(\"area_factor\") * pl.col(\"Circleness_Scale\")).alias(\"smoke_estimate\")\n",
    "    )\n",
    ")\n",
    "wildfires_enriched"
   ]
  },
  {
   "cell_type": "code",
   "execution_count": 14,
   "metadata": {},
   "outputs": [
    {
     "data": {
      "text/html": [
       "<div><style>\n",
       ".dataframe > thead > tr,\n",
       ".dataframe > tbody > tr {\n",
       "  text-align: right;\n",
       "  white-space: pre-wrap;\n",
       "}\n",
       "</style>\n",
       "<small>shape: (57, 2)</small><table border=\"1\" class=\"dataframe\"><thead><tr><th>Fire_Year</th><th>sum_estimate</th></tr><tr><td>i64</td><td>f64</td></tr></thead><tbody><tr><td>1964</td><td>17.757395</td></tr><tr><td>1965</td><td>7.891844</td></tr><tr><td>1966</td><td>18.259437</td></tr><tr><td>1967</td><td>10.625853</td></tr><tr><td>1968</td><td>16.536229</td></tr><tr><td>&hellip;</td><td>&hellip;</td></tr><tr><td>2016</td><td>29.003212</td></tr><tr><td>2017</td><td>48.263021</td></tr><tr><td>2018</td><td>38.374925</td></tr><tr><td>2019</td><td>32.443285</td></tr><tr><td>2020</td><td>38.615303</td></tr></tbody></table></div>"
      ],
      "text/plain": [
       "shape: (57, 2)\n",
       "┌───────────┬──────────────┐\n",
       "│ Fire_Year ┆ sum_estimate │\n",
       "│ ---       ┆ ---          │\n",
       "│ i64       ┆ f64          │\n",
       "╞═══════════╪══════════════╡\n",
       "│ 1964      ┆ 17.757395    │\n",
       "│ 1965      ┆ 7.891844     │\n",
       "│ 1966      ┆ 18.259437    │\n",
       "│ 1967      ┆ 10.625853    │\n",
       "│ 1968      ┆ 16.536229    │\n",
       "│ …         ┆ …            │\n",
       "│ 2016      ┆ 29.003212    │\n",
       "│ 2017      ┆ 48.263021    │\n",
       "│ 2018      ┆ 38.374925    │\n",
       "│ 2019      ┆ 32.443285    │\n",
       "│ 2020      ┆ 38.615303    │\n",
       "└───────────┴──────────────┘"
      ]
     },
     "execution_count": 14,
     "metadata": {},
     "output_type": "execute_result"
    }
   ],
   "source": [
    "smoke_estimates_yearly = (\n",
    "\n",
    "    wildfires_enriched\n",
    "    .group_by(\"Fire_Year\")\n",
    "    .agg(\n",
    "        pl.sum(\"smoke_estimate\").alias(\"sum_estimate\"),\n",
    "    )\n",
    "    .sort(\"Fire_Year\")\n",
    ")\n",
    "\n",
    "smoke_estimates_yearly"
   ]
  },
  {
   "cell_type": "code",
   "execution_count": 20,
   "metadata": {},
   "outputs": [],
   "source": [
    "smoke_estimates_yearly.write_csv(\"generated_files/intermediate/smoke_estimates_1964-2024.csv\")"
   ]
  },
  {
   "cell_type": "markdown",
   "metadata": {},
   "source": [
    "# checking relation between smoke estimates and aqi"
   ]
  },
  {
   "cell_type": "code",
   "execution_count": 21,
   "metadata": {},
   "outputs": [
    {
     "data": {
      "text/html": [
       "<div><style>\n",
       ".dataframe > thead > tr,\n",
       ".dataframe > tbody > tr {\n",
       "  text-align: right;\n",
       "  white-space: pre-wrap;\n",
       "}\n",
       "</style>\n",
       "<small>shape: (61, 2)</small><table border=\"1\" class=\"dataframe\"><thead><tr><th>year</th><th>weighted_avg_aqi</th></tr><tr><td>i64</td><td>f64</td></tr></thead><tbody><tr><td>1964</td><td>32.41</td></tr><tr><td>1965</td><td>25.73</td></tr><tr><td>1966</td><td>21.06</td></tr><tr><td>1967</td><td>26.93</td></tr><tr><td>1968</td><td>25.57</td></tr><tr><td>&hellip;</td><td>&hellip;</td></tr><tr><td>2020</td><td>59.25</td></tr><tr><td>2021</td><td>52.98</td></tr><tr><td>2022</td><td>43.03</td></tr><tr><td>2023</td><td>45.11</td></tr><tr><td>2024</td><td>38.37</td></tr></tbody></table></div>"
      ],
      "text/plain": [
       "shape: (61, 2)\n",
       "┌──────┬──────────────────┐\n",
       "│ year ┆ weighted_avg_aqi │\n",
       "│ ---  ┆ ---              │\n",
       "│ i64  ┆ f64              │\n",
       "╞══════╪══════════════════╡\n",
       "│ 1964 ┆ 32.41            │\n",
       "│ 1965 ┆ 25.73            │\n",
       "│ 1966 ┆ 21.06            │\n",
       "│ 1967 ┆ 26.93            │\n",
       "│ 1968 ┆ 25.57            │\n",
       "│ …    ┆ …                │\n",
       "│ 2020 ┆ 59.25            │\n",
       "│ 2021 ┆ 52.98            │\n",
       "│ 2022 ┆ 43.03            │\n",
       "│ 2023 ┆ 45.11            │\n",
       "│ 2024 ┆ 38.37            │\n",
       "└──────┴──────────────────┘"
      ]
     },
     "execution_count": 21,
     "metadata": {},
     "output_type": "execute_result"
    }
   ],
   "source": [
    "yearly_aqi_weighted_avg = pl.read_csv(\"generated_files/intermediate/yearly_weighted_aqi_1964-2024.csv\")\n",
    "yearly_aqi_weighted_avg"
   ]
  },
  {
   "cell_type": "code",
   "execution_count": 22,
   "metadata": {},
   "outputs": [
    {
     "name": "stdout",
     "output_type": "stream",
     "text": [
      "Pearson correlation coefficient: 0.36464901425861485\n"
     ]
    }
   ],
   "source": [
    "from scipy.stats import pearsonr\n",
    "\n",
    "# smoke data only till 2020, while aqi data is till 2024\n",
    "yearly_aqi_1964_2020 = (\n",
    "    yearly_aqi_weighted_avg\n",
    "    .filter(\n",
    "        pl.col(\"year\").is_between(1964, 2020)\n",
    "    )\n",
    ")\n",
    "# Calculate Pearson correlation and p-value\n",
    "correlation, p_value = pearsonr(yearly_aqi_1964_2020[\"weighted_avg_aqi\"],smoke_estimates_yearly[\"sum_estimate\"])\n",
    "\n",
    "# Display the correlation\n",
    "print(f\"Pearson correlation coefficient: {correlation}\")"
   ]
  }
 ],
 "metadata": {
  "kernelspec": {
   "display_name": "Python 3",
   "language": "python",
   "name": "python3"
  },
  "language_info": {
   "codemirror_mode": {
    "name": "ipython",
    "version": 3
   },
   "file_extension": ".py",
   "mimetype": "text/x-python",
   "name": "python",
   "nbconvert_exporter": "python",
   "pygments_lexer": "ipython3",
   "version": "3.11.4"
  }
 },
 "nbformat": 4,
 "nbformat_minor": 2
}

{
 "cells": [
  {
   "cell_type": "markdown",
   "metadata": {},
   "source": [
    "# Data Cleaning - AQI \n",
    "\n",
    "In [2_data_aquisition_aqi.ipynb](2_data_aquisition_aqi.ipynb), we've collected AQI data from all the monitoring stations in the San Joaquin county of the state of California. The goal of this notebook is to condense these daily summaries of AQI data from multiple stations in the county to an yearly estimate of AQI in the city Stockton, CA.\n",
    "\n",
    "This would facilitate us to easily analyse how the estimated AQI index of Stockton city has changed over the past 60 years. Creating this yearly aggregate would also allow us to draw comparisons with an yearly aggregate of smoke estimates that we'll calculate in [4_smoke_estimates.ipynb](4_smoke_estimates.ipynb)"
   ]
  },
  {
   "cell_type": "markdown",
   "metadata": {},
   "source": [
    "### Preliminaries\n",
    "First we start with some imports statements"
   ]
  },
  {
   "cell_type": "code",
   "execution_count": 1,
   "metadata": {},
   "outputs": [],
   "source": [
    "import pandas as pd\n",
    "import polars as pl\n",
    "from pyproj import Geod"
   ]
  },
  {
   "cell_type": "markdown",
   "metadata": {},
   "source": [
    "We proceed to load the data that was generated in the previous step, i.e, [2_data_aquisition_aqi.ipynb](2_data_aquisition_aqi.ipynb). This data would contain the daily summaries of the gaseous and particle data from the monitoring stations in the county of interest, for the last 60 years."
   ]
  },
  {
   "cell_type": "code",
   "execution_count": 2,
   "metadata": {},
   "outputs": [
    {
     "name": "stdout",
     "output_type": "stream",
     "text": [
      "shape: (218_695, 32)\n",
      "┌───────────┬───────────┬───────────┬───────────┬───┬──────────┬───────────┬───────────┬───────────┐\n",
      "│ state_cod ┆ county_co ┆ site_numb ┆ parameter ┆ … ┆ city     ┆ cbsa_code ┆ cbsa      ┆ date_of_l │\n",
      "│ e         ┆ de        ┆ er        ┆ _code     ┆   ┆ ---      ┆ ---       ┆ ---       ┆ ast_chang │\n",
      "│ ---       ┆ ---       ┆ ---       ┆ ---       ┆   ┆ str      ┆ i64       ┆ str       ┆ e         │\n",
      "│ i64       ┆ i64       ┆ i64       ┆ i64       ┆   ┆          ┆           ┆           ┆ ---       │\n",
      "│           ┆           ┆           ┆           ┆   ┆          ┆           ┆           ┆ str       │\n",
      "╞═══════════╪═══════════╪═══════════╪═══════════╪═══╪══════════╪═══════════╪═══════════╪═══════════╡\n",
      "│ 6         ┆ 77        ┆ 1002      ┆ 42101     ┆ … ┆ Stockton ┆ 44700     ┆ Stockton- ┆ 2016-03-3 │\n",
      "│           ┆           ┆           ┆           ┆   ┆          ┆           ┆ Lodi, CA  ┆ 1         │\n",
      "│ 6         ┆ 77        ┆ 1002      ┆ 42101     ┆ … ┆ Stockton ┆ 44700     ┆ Stockton- ┆ 2016-03-3 │\n",
      "│           ┆           ┆           ┆           ┆   ┆          ┆           ┆ Lodi, CA  ┆ 1         │\n",
      "│ 6         ┆ 77        ┆ 1002      ┆ 42101     ┆ … ┆ Stockton ┆ 44700     ┆ Stockton- ┆ 2016-03-3 │\n",
      "│           ┆           ┆           ┆           ┆   ┆          ┆           ┆ Lodi, CA  ┆ 1         │\n",
      "│ 6         ┆ 77        ┆ 1002      ┆ 42101     ┆ … ┆ Stockton ┆ 44700     ┆ Stockton- ┆ 2016-03-3 │\n",
      "│           ┆           ┆           ┆           ┆   ┆          ┆           ┆ Lodi, CA  ┆ 1         │\n",
      "│ 6         ┆ 77        ┆ 1002      ┆ 42101     ┆ … ┆ Stockton ┆ 44700     ┆ Stockton- ┆ 2016-03-3 │\n",
      "│           ┆           ┆           ┆           ┆   ┆          ┆           ┆ Lodi, CA  ┆ 1         │\n",
      "│ …         ┆ …         ┆ …         ┆ …         ┆ … ┆ …        ┆ …         ┆ …         ┆ …         │\n",
      "│ 6         ┆ 77        ┆ 3005      ┆ 88502     ┆ … ┆ Tracy    ┆ 44700     ┆ Stockton- ┆ 2024-09-1 │\n",
      "│           ┆           ┆           ┆           ┆   ┆          ┆           ┆ Lodi, CA  ┆ 9         │\n",
      "│ 6         ┆ 77        ┆ 3005      ┆ 88502     ┆ … ┆ Tracy    ┆ 44700     ┆ Stockton- ┆ 2024-09-1 │\n",
      "│           ┆           ┆           ┆           ┆   ┆          ┆           ┆ Lodi, CA  ┆ 9         │\n",
      "│ 6         ┆ 77        ┆ 3005      ┆ 88502     ┆ … ┆ Tracy    ┆ 44700     ┆ Stockton- ┆ 2024-09-1 │\n",
      "│           ┆           ┆           ┆           ┆   ┆          ┆           ┆ Lodi, CA  ┆ 9         │\n",
      "│ 6         ┆ 77        ┆ 3005      ┆ 88502     ┆ … ┆ Tracy    ┆ 44700     ┆ Stockton- ┆ 2024-09-1 │\n",
      "│           ┆           ┆           ┆           ┆   ┆          ┆           ┆ Lodi, CA  ┆ 9         │\n",
      "│ 6         ┆ 77        ┆ 3005      ┆ 88502     ┆ … ┆ Tracy    ┆ 44700     ┆ Stockton- ┆ 2024-09-1 │\n",
      "│           ┆           ┆           ┆           ┆   ┆          ┆           ┆ Lodi, CA  ┆ 9         │\n",
      "└───────────┴───────────┴───────────┴───────────┴───┴──────────┴───────────┴───────────┴───────────┘\n",
      "['state_code', 'county_code', 'site_number', 'parameter_code', 'poc', 'latitude', 'longitude', 'datum', 'parameter', 'sample_duration_code', 'sample_duration', 'pollutant_standard', 'date_local', 'units_of_measure', 'event_type', 'observation_count', 'observation_percent', 'validity_indicator', 'arithmetic_mean', 'first_max_value', 'first_max_hour', 'aqi', 'method_code', 'method', 'local_site_name', 'site_address', 'state', 'county', 'city', 'cbsa_code', 'cbsa', 'date_of_last_change']\n"
     ]
    }
   ],
   "source": [
    "# Loading the gaseous and particulate data\n",
    "gaseous_data = pl.from_dataframe( pd.read_csv(\"generated_files/intermediate/gaseous_AQI_1964-2024.csv\") )\n",
    "\n",
    "particulate_data = pl.from_dataframe( pd.read_csv(\"generated_files/intermediate/particulate_AQI_1964-2024.csv\") )\n",
    "\n",
    "# merging both gaseous and particle data, since they have the same schema\n",
    "aqi_data = pl.concat([gaseous_data, particulate_data])\n",
    "print(aqi_data)\n",
    "print(aqi_data.columns)"
   ]
  },
  {
   "cell_type": "markdown",
   "metadata": {},
   "source": [
    "### Exploring the montitoring stations\n",
    "\n",
    "As mentioned previously, we have the AQI data coming from multiple Air quality monitoring stations. Let's find the unique stations from where our data is coming"
   ]
  },
  {
   "cell_type": "code",
   "execution_count": 3,
   "metadata": {},
   "outputs": [
    {
     "name": "stdout",
     "output_type": "stream",
     "text": [
      "Unique stations - -\n",
      "shape: (13, 5)\n",
      "┌────────────┬─────────────┬─────────────┬───────────┬─────────────┐\n",
      "│ state_code ┆ county_code ┆ site_number ┆ latitude  ┆ longitude   │\n",
      "│ ---        ┆ ---         ┆ ---         ┆ ---       ┆ ---         │\n",
      "│ i64        ┆ i64         ┆ i64         ┆ f64       ┆ f64         │\n",
      "╞════════════╪═════════════╪═════════════╪═══════════╪═════════════╡\n",
      "│ 6          ┆ 77          ┆ 2           ┆ 38.116586 ┆ -121.286337 │\n",
      "│ 6          ┆ 77          ┆ 8           ┆ 37.995201 ┆ -121.309115 │\n",
      "│ 6          ┆ 77          ┆ 9           ┆ 37.906869 ┆ -121.148275 │\n",
      "│ 6          ┆ 77          ┆ 3010        ┆ 38.029626 ┆ -121.354026 │\n",
      "│ 6          ┆ 77          ┆ 5           ┆ 37.84826  ┆ -121.446892 │\n",
      "│ …          ┆ …           ┆ …           ┆ …         ┆ …           │\n",
      "│ 6          ┆ 77          ┆ 3003        ┆ 37.737985 ┆ -121.535503 │\n",
      "│ 6          ┆ 77          ┆ 1003        ┆ 37.961578 ┆ -121.281414 │\n",
      "│ 6          ┆ 77          ┆ 3002        ┆ 37.739929 ┆ -121.533002 │\n",
      "│ 6          ┆ 77          ┆ 2010        ┆ 37.793392 ┆ -121.247874 │\n",
      "│ 6          ┆ 77          ┆ 3005        ┆ 37.682635 ┆ -121.442495 │\n",
      "└────────────┴─────────────┴─────────────┴───────────┴─────────────┘\n"
     ]
    }
   ],
   "source": [
    "print(\"Unique stations - -\")\n",
    "\n",
    "unique_stations = (\n",
    "    aqi_data\n",
    "    .select(\n",
    "        [\n",
    "            'state_code',\n",
    "            'county_code',\n",
    "            'site_number',\n",
    "            'latitude',\n",
    "            'longitude'\n",
    "        ]\n",
    "    )\n",
    "    .unique()\n",
    ")\n",
    "print(unique_stations)"
   ]
  },
  {
   "cell_type": "markdown",
   "metadata": {},
   "source": [
    "We see that we have data from 13 AQI stations, each of them situated at different locations in and around the county. Since we want to estimate the AQI in Stockton using data from all these stations, we need to find a way to agrregate the data. \n",
    "\n",
    "One way to proceed is to take an average of all the AQIs recorded, to find the AQI at the city; but this would mean that an index recorded at a monitoring station 10 miles from the city will be given the same weight as that from a station in the city. This might not be right, since the second monitoring station will be providing more accurate data for the city.\n",
    "\n",
    "To help with this, we can use a weighted average, where the AQI from the closest station is given more preference. So lets first start with calculating distances from Stockton, CA to all the monitoring stations."
   ]
  },
  {
   "cell_type": "code",
   "execution_count": 4,
   "metadata": {},
   "outputs": [
    {
     "name": "stdout",
     "output_type": "stream",
     "text": [
      "shape: (13, 6)\n",
      "┌────────────┬─────────────┬─────────────┬───────────┬─────────────┬───────────────────┐\n",
      "│ state_code ┆ county_code ┆ site_number ┆ latitude  ┆ longitude   ┆ distance_in_miles │\n",
      "│ ---        ┆ ---         ┆ ---         ┆ ---       ┆ ---         ┆ ---               │\n",
      "│ i64        ┆ i64         ┆ i64         ┆ f64       ┆ f64         ┆ f64               │\n",
      "╞════════════╪═════════════╪═════════════╪═══════════╪═════════════╪═══════════════════╡\n",
      "│ 6          ┆ 77          ┆ 8           ┆ 37.995201 ┆ -121.309115 ┆ 1.428345          │\n",
      "│ 6          ┆ 77          ┆ 1003        ┆ 37.961578 ┆ -121.281414 ┆ 1.433032          │\n",
      "│ 6          ┆ 77          ┆ 4           ┆ 37.954075 ┆ -121.289634 ┆ 1.602768          │\n",
      "│ 6          ┆ 77          ┆ 1002        ┆ 37.950741 ┆ -121.268523 ┆ 2.457991          │\n",
      "│ 6          ┆ 77          ┆ 3010        ┆ 38.029626 ┆ -121.354026 ┆ 4.725914          │\n",
      "│ …          ┆ …           ┆ …           ┆ …         ┆ …           ┆ …                 │\n",
      "│ 6          ┆ 77          ┆ 2010        ┆ 37.793392 ┆ -121.247874 ┆ 12.892777         │\n",
      "│ 6          ┆ 77          ┆ 1001        ┆ 37.738524 ┆ -121.123516 ┆ 19.006843         │\n",
      "│ 6          ┆ 77          ┆ 3002        ┆ 37.739929 ┆ -121.533002 ┆ 20.621834         │\n",
      "│ 6          ┆ 77          ┆ 3003        ┆ 37.737985 ┆ -121.535503 ┆ 20.811799         │\n",
      "│ 6          ┆ 77          ┆ 3005        ┆ 37.682635 ┆ -121.442495 ┆ 21.63742          │\n",
      "└────────────┴─────────────┴─────────────┴───────────┴─────────────┴───────────────────┘\n"
     ]
    }
   ],
   "source": [
    "# calculate distances for each station from the city\n",
    "\n",
    "geodcalc = Geod(ellps='WGS84')\n",
    "CITY_LOCATION = {\n",
    "    'city'   : 'Stockton',\n",
    "    'latlon' : [37.975556, -121.300833] \n",
    "}\n",
    "\n",
    "\n",
    "def distance_in_miles(row):\n",
    "    # use a predefined function to calculate the arc distance between 2 geo points.\n",
    "    d = geodcalc.inv(CITY_LOCATION[\"latlon\"][1],CITY_LOCATION[\"latlon\"][0],row[\"longitude\"],row[\"latitude\"])\n",
    "    # convert the resulting distance to miles\n",
    "    distance_in_miles = d[2]*0.00062137\n",
    "    return distance_in_miles\n",
    "\n",
    "# run each record of the unique_stations list though the above function, to calculate the distances\n",
    "# add this calculated distance as a column to the dataframe\n",
    "unique_stations_dist = (\n",
    "    unique_stations\n",
    "    .with_columns(\n",
    "        pl.struct([\"latitude\", \"longitude\"])\n",
    "        .map_elements(\n",
    "            distance_in_miles,\n",
    "            return_dtype=pl.Float64\n",
    "        ).alias(\"distance_in_miles\")\n",
    "    )\n",
    "    .sort(\"distance_in_miles\")\n",
    ")\n",
    "\n",
    "print(unique_stations_dist)"
   ]
  },
  {
   "cell_type": "markdown",
   "metadata": {},
   "source": [
    "Now, lets quickly analyse the data we have in the aqi_data dataframe. This is to understand what are the columns in the dataset that we can use for our AQI estimate in the city."
   ]
  },
  {
   "cell_type": "code",
   "execution_count": 5,
   "metadata": {},
   "outputs": [
    {
     "data": {
      "text/plain": [
       "['state_code',\n",
       " 'county_code',\n",
       " 'site_number',\n",
       " 'parameter_code',\n",
       " 'poc',\n",
       " 'latitude',\n",
       " 'longitude',\n",
       " 'datum',\n",
       " 'parameter',\n",
       " 'sample_duration_code',\n",
       " 'sample_duration',\n",
       " 'pollutant_standard',\n",
       " 'date_local',\n",
       " 'units_of_measure',\n",
       " 'event_type',\n",
       " 'observation_count',\n",
       " 'observation_percent',\n",
       " 'validity_indicator',\n",
       " 'arithmetic_mean',\n",
       " 'first_max_value',\n",
       " 'first_max_hour',\n",
       " 'aqi',\n",
       " 'method_code',\n",
       " 'method',\n",
       " 'local_site_name',\n",
       " 'site_address',\n",
       " 'state',\n",
       " 'county',\n",
       " 'city',\n",
       " 'cbsa_code',\n",
       " 'cbsa',\n",
       " 'date_of_last_change']"
      ]
     },
     "execution_count": 5,
     "metadata": {},
     "output_type": "execute_result"
    }
   ],
   "source": [
    "aqi_data.columns"
   ]
  },
  {
   "cell_type": "code",
   "execution_count": 6,
   "metadata": {},
   "outputs": [
    {
     "data": {
      "text/html": [
       "<div><style>\n",
       ".dataframe > thead > tr,\n",
       ".dataframe > tbody > tr {\n",
       "  text-align: right;\n",
       "  white-space: pre-wrap;\n",
       "}\n",
       "</style>\n",
       "<small>shape: (2, 2)</small><table border=\"1\" class=\"dataframe\"><thead><tr><th>validity_indicator</th><th>len</th></tr><tr><td>str</td><td>u32</td></tr></thead><tbody><tr><td>&quot;N&quot;</td><td>4228</td></tr><tr><td>&quot;Y&quot;</td><td>214467</td></tr></tbody></table></div>"
      ],
      "text/plain": [
       "shape: (2, 2)\n",
       "┌────────────────────┬────────┐\n",
       "│ validity_indicator ┆ len    │\n",
       "│ ---                ┆ ---    │\n",
       "│ str                ┆ u32    │\n",
       "╞════════════════════╪════════╡\n",
       "│ N                  ┆ 4228   │\n",
       "│ Y                  ┆ 214467 │\n",
       "└────────────────────┴────────┘"
      ]
     },
     "execution_count": 6,
     "metadata": {},
     "output_type": "execute_result"
    }
   ],
   "source": [
    "# validity_indicator field seems to represent the validity of an entry\n",
    "# Looking at the possible values for this field and the corresponding counts\n",
    "aqi_data.group_by(\"validity_indicator\").len()"
   ]
  },
  {
   "cell_type": "code",
   "execution_count": 10,
   "metadata": {},
   "outputs": [
    {
     "data": {
      "text/html": [
       "<div><style>\n",
       ".dataframe > thead > tr,\n",
       ".dataframe > tbody > tr {\n",
       "  text-align: right;\n",
       "  white-space: pre-wrap;\n",
       "}\n",
       "</style>\n",
       "<small>shape: (62, 4)</small><table border=\"1\" class=\"dataframe\"><thead><tr><th>site_number</th><th>sample_duration</th><th>parameter</th><th>len</th></tr><tr><td>i64</td><td>str</td><td>str</td><td>u32</td></tr></thead><tbody><tr><td>2</td><td>&quot;8-HR RUN AVG BEGIN HOUR&quot;</td><td>&quot;Ozone&quot;</td><td>1850</td></tr><tr><td>1002</td><td>&quot;3-HR BLK AVG&quot;</td><td>&quot;Sulfur dioxide&quot;</td><td>1440</td></tr><tr><td>3002</td><td>&quot;1 HOUR&quot;</td><td>&quot;Ozone&quot;</td><td>119</td></tr><tr><td>1003</td><td>&quot;1 HOUR&quot;</td><td>&quot;Ozone&quot;</td><td>344</td></tr><tr><td>3002</td><td>&quot;1 HOUR&quot;</td><td>&quot;Nitrogen dioxide (NO2)&quot;</td><td>218</td></tr><tr><td>&hellip;</td><td>&hellip;</td><td>&hellip;</td><td>&hellip;</td></tr><tr><td>3005</td><td>&quot;8-HR RUN AVG BEGIN HOUR&quot;</td><td>&quot;Ozone&quot;</td><td>9998</td></tr><tr><td>3005</td><td>&quot;1 HOUR&quot;</td><td>&quot;Ozone&quot;</td><td>3330</td></tr><tr><td>1002</td><td>&quot;8-HR RUN AVG BEGIN HOUR&quot;</td><td>&quot;Ozone&quot;</td><td>24035</td></tr><tr><td>3010</td><td>&quot;24 HOUR&quot;</td><td>&quot;PM10 Total 0-10um STP&quot;</td><td>528</td></tr><tr><td>1002</td><td>&quot;1 HOUR&quot;</td><td>&quot;Sulfur dioxide&quot;</td><td>2880</td></tr></tbody></table></div>"
      ],
      "text/plain": [
       "shape: (62, 4)\n",
       "┌─────────────┬─────────────────────────┬────────────────────────┬───────┐\n",
       "│ site_number ┆ sample_duration         ┆ parameter              ┆ len   │\n",
       "│ ---         ┆ ---                     ┆ ---                    ┆ ---   │\n",
       "│ i64         ┆ str                     ┆ str                    ┆ u32   │\n",
       "╞═════════════╪═════════════════════════╪════════════════════════╪═══════╡\n",
       "│ 2           ┆ 8-HR RUN AVG BEGIN HOUR ┆ Ozone                  ┆ 1850  │\n",
       "│ 1002        ┆ 3-HR BLK AVG            ┆ Sulfur dioxide         ┆ 1440  │\n",
       "│ 3002        ┆ 1 HOUR                  ┆ Ozone                  ┆ 119   │\n",
       "│ 1003        ┆ 1 HOUR                  ┆ Ozone                  ┆ 344   │\n",
       "│ 3002        ┆ 1 HOUR                  ┆ Nitrogen dioxide (NO2) ┆ 218   │\n",
       "│ …           ┆ …                       ┆ …                      ┆ …     │\n",
       "│ 3005        ┆ 8-HR RUN AVG BEGIN HOUR ┆ Ozone                  ┆ 9998  │\n",
       "│ 3005        ┆ 1 HOUR                  ┆ Ozone                  ┆ 3330  │\n",
       "│ 1002        ┆ 8-HR RUN AVG BEGIN HOUR ┆ Ozone                  ┆ 24035 │\n",
       "│ 3010        ┆ 24 HOUR                 ┆ PM10 Total 0-10um STP  ┆ 528   │\n",
       "│ 1002        ┆ 1 HOUR                  ┆ Sulfur dioxide         ┆ 2880  │\n",
       "└─────────────┴─────────────────────────┴────────────────────────┴───────┘"
      ]
     },
     "execution_count": 10,
     "metadata": {},
     "output_type": "execute_result"
    }
   ],
   "source": [
    "# looking at how sample durations are for each parameter (gaseous or particulate) and checking how it changes across monitoring sites\n",
    "aqi_data.group_by([\n",
    "            'site_number',\n",
    "            'sample_duration',\n",
    "            'parameter'\n",
    "        ]).len()"
   ]
  },
  {
   "cell_type": "markdown",
   "metadata": {},
   "source": [
    "Looking at the daily AQI summary data, we notice that each station records data for multiple parameters on each day. For each parameter, we see AQI recordings for different sample durations. Since we are interested in aggregating this granular data to a year level, lets start by dropping all the invalid rows and finding the mean AQI per station per day per parameter."
   ]
  },
  {
   "cell_type": "code",
   "execution_count": 11,
   "metadata": {},
   "outputs": [
    {
     "name": "stdout",
     "output_type": "stream",
     "text": [
      "shape: (62_158, 4)\n",
      "┌─────────────┬────────────┬──────────────────────────┬──────┐\n",
      "│ site_number ┆ date_local ┆ parameter                ┆ aqi  │\n",
      "│ ---         ┆ ---        ┆ ---                      ┆ ---  │\n",
      "│ i64         ┆ str        ┆ str                      ┆ f64  │\n",
      "╞═════════════╪════════════╪══════════════════════════╪══════╡\n",
      "│ 1002        ┆ 1993-07-23 ┆ Carbon monoxide          ┆ 11.0 │\n",
      "│ 1002        ┆ 1996-06-18 ┆ Nitrogen dioxide (NO2)   ┆ 36.0 │\n",
      "│ 1002        ┆ 1974-07-08 ┆ Carbon monoxide          ┆ 24.0 │\n",
      "│ 9           ┆ 1997-08-20 ┆ Ozone                    ┆ 31.0 │\n",
      "│ 1002        ┆ 2006-10-08 ┆ Carbon monoxide          ┆ 13.0 │\n",
      "│ …           ┆ …          ┆ …                        ┆ …    │\n",
      "│ 1002        ┆ 1996-06-23 ┆ Carbon monoxide          ┆ 9.0  │\n",
      "│ 1002        ┆ 2013-10-29 ┆ Ozone                    ┆ 26.0 │\n",
      "│ 1002        ┆ 2019-07-22 ┆ Carbon monoxide          ┆ 2.0  │\n",
      "│ 1002        ┆ 2011-07-25 ┆ PM2.5 - Local Conditions ┆ 36.0 │\n",
      "│ 2           ┆ 1981-08-13 ┆ Ozone                    ┆ 44.0 │\n",
      "└─────────────┴────────────┴──────────────────────────┴──────┘\n"
     ]
    }
   ],
   "source": [
    "# find the mean aqi per site per gas per day\n",
    "aqi_mean_granular = (\n",
    "    aqi_data\n",
    "    .filter([\n",
    "        # filter only for valid data\n",
    "        pl.col(\"validity_indicator\") == \"Y\", # ~4k records have validity indicator as \"N\"\n",
    "        pl.col(\"aqi\").is_not_null() # ~50k records do not have AQI info (.i.e 20%)\n",
    "    ])\n",
    "    .select(\n",
    "        # select relevant features\n",
    "        [\n",
    "            'site_number',\n",
    "            'parameter',\n",
    "            'date_local',\n",
    "            'aqi'\n",
    "        ]\n",
    "    )\n",
    "    .group_by( \n",
    "        [\n",
    "            'site_number',\n",
    "            'date_local',\n",
    "            'parameter'\n",
    "        ]\n",
    "    )\n",
    "    .agg(pl.mean(\"aqi\"))\n",
    ")\n",
    "print(aqi_mean_granular)"
   ]
  },
  {
   "cell_type": "markdown",
   "metadata": {},
   "source": [
    "Now that we have an AQI value per station, per gas, per day, lets aggregate this further to get an AQI for the air, i.e, combine the individual gaseous AQI. For this, I decided to go with assigning the air AQI to the maximum of the pollutants AQIs.\n",
    "\n",
    "This aggregation will give us an AQI value per station per day."
   ]
  },
  {
   "cell_type": "code",
   "execution_count": 12,
   "metadata": {},
   "outputs": [
    {
     "data": {
      "text/html": [
       "<div><style>\n",
       ".dataframe > thead > tr,\n",
       ".dataframe > tbody > tr {\n",
       "  text-align: right;\n",
       "  white-space: pre-wrap;\n",
       "}\n",
       "</style>\n",
       "<small>shape: (25_105, 3)</small><table border=\"1\" class=\"dataframe\"><thead><tr><th>site_number</th><th>date_local</th><th>aqi</th></tr><tr><td>i64</td><td>str</td><td>f64</td></tr></thead><tbody><tr><td>3005</td><td>&quot;2006-10-27&quot;</td><td>60.0</td></tr><tr><td>3010</td><td>&quot;2000-07-29&quot;</td><td>20.0</td></tr><tr><td>1002</td><td>&quot;1995-06-06&quot;</td><td>28.0</td></tr><tr><td>9</td><td>&quot;1986-05-13&quot;</td><td>44.0</td></tr><tr><td>1002</td><td>&quot;2007-10-02&quot;</td><td>48.0</td></tr><tr><td>&hellip;</td><td>&hellip;</td><td>&hellip;</td></tr><tr><td>2010</td><td>&quot;2018-10-31&quot;</td><td>43.0</td></tr><tr><td>3003</td><td>&quot;1995-07-31&quot;</td><td>129.0</td></tr><tr><td>1002</td><td>&quot;1983-05-23&quot;</td><td>44.0</td></tr><tr><td>8</td><td>&quot;1989-08-24&quot;</td><td>1.0</td></tr><tr><td>1002</td><td>&quot;1977-09-21&quot;</td><td>31.0</td></tr></tbody></table></div>"
      ],
      "text/plain": [
       "shape: (25_105, 3)\n",
       "┌─────────────┬────────────┬───────┐\n",
       "│ site_number ┆ date_local ┆ aqi   │\n",
       "│ ---         ┆ ---        ┆ ---   │\n",
       "│ i64         ┆ str        ┆ f64   │\n",
       "╞═════════════╪════════════╪═══════╡\n",
       "│ 3005        ┆ 2006-10-27 ┆ 60.0  │\n",
       "│ 3010        ┆ 2000-07-29 ┆ 20.0  │\n",
       "│ 1002        ┆ 1995-06-06 ┆ 28.0  │\n",
       "│ 9           ┆ 1986-05-13 ┆ 44.0  │\n",
       "│ 1002        ┆ 2007-10-02 ┆ 48.0  │\n",
       "│ …           ┆ …          ┆ …     │\n",
       "│ 2010        ┆ 2018-10-31 ┆ 43.0  │\n",
       "│ 3003        ┆ 1995-07-31 ┆ 129.0 │\n",
       "│ 1002        ┆ 1983-05-23 ┆ 44.0  │\n",
       "│ 8           ┆ 1989-08-24 ┆ 1.0   │\n",
       "│ 1002        ┆ 1977-09-21 ┆ 31.0  │\n",
       "└─────────────┴────────────┴───────┘"
      ]
     },
     "execution_count": 12,
     "metadata": {},
     "output_type": "execute_result"
    }
   ],
   "source": [
    "# calculate the max aqi recorded at a station on a given day\n",
    "\n",
    "# daily AQI is given by the formula as max of all pollutants' AQI \n",
    "\n",
    "aqi_max_per_station = (\n",
    "    aqi_mean_granular\n",
    "    .group_by(\n",
    "        [\n",
    "            'site_number',\n",
    "            'date_local'\n",
    "        ]\n",
    "    )\n",
    "    .agg(\n",
    "        pl.max('aqi'),\n",
    "    )\n",
    ")\n",
    "aqi_max_per_station"
   ]
  },
  {
   "cell_type": "markdown",
   "metadata": {},
   "source": [
    "Now that we have the AQI per station per day, lets aggregate this even further to find an AQI value per station per year. For this, we just take the average of the AQI values of all the days in the year, by utilizing the inbuilt mean() function."
   ]
  },
  {
   "cell_type": "code",
   "execution_count": 13,
   "metadata": {},
   "outputs": [
    {
     "name": "stdout",
     "output_type": "stream",
     "text": [
      "shape: (164, 3)\n",
      "┌─────────────┬──────┬───────────┐\n",
      "│ site_number ┆ year ┆ aqi       │\n",
      "│ ---         ┆ ---  ┆ ---       │\n",
      "│ i64         ┆ i32  ┆ f64       │\n",
      "╞═════════════╪══════╪═══════════╡\n",
      "│ 9           ┆ 1990 ┆ 62.087798 │\n",
      "│ 3005        ┆ 2013 ┆ 52.153846 │\n",
      "│ 1002        ┆ 2005 ┆ 49.597826 │\n",
      "│ 1002        ┆ 1981 ┆ 58.211749 │\n",
      "│ 1002        ┆ 2011 ┆ 50.038043 │\n",
      "│ …           ┆ …    ┆ …         │\n",
      "│ 9           ┆ 1997 ┆ 48.462247 │\n",
      "│ 3010        ┆ 2009 ┆ 21.064516 │\n",
      "│ 3010        ┆ 2007 ┆ 21.333333 │\n",
      "│ 3010        ┆ 2010 ┆ 15.933333 │\n",
      "│ 9           ┆ 1993 ┆ 60.516575 │\n",
      "└─────────────┴──────┴───────────┘\n"
     ]
    }
   ],
   "source": [
    "# find yearly AQI from each station by taking average\n",
    "\n",
    "aqi_yearly_per_station = (\n",
    "    aqi_max_per_station\n",
    "    .with_columns(\n",
    "        pl.col(\"date_local\").str.strptime(pl.Date, \"%Y-%m-%d\").dt.year().alias(\"year\")\n",
    "    )\n",
    "    .group_by(\n",
    "        [\n",
    "            \"site_number\",\n",
    "            \"year\"\n",
    "        ]\n",
    "    )\n",
    "    .agg(\n",
    "        pl.mean(\"aqi\")\n",
    "    )\n",
    ")\n",
    "\n",
    "print(aqi_yearly_per_station)"
   ]
  },
  {
   "cell_type": "markdown",
   "metadata": {},
   "source": [
    "Now we have a dataframe containing the aggregated AQI values per station per year. As discussed previously, we want to take the weighted average of the AQIs from different stations based on their distance from the city.\n",
    "\n",
    "To allow for this weighted average calculation, we join the `aqi_yearly_per_station` dataframe with table containing distances from the city to the monitoring station `unique_stations_dist` that was calculated above."
   ]
  },
  {
   "cell_type": "code",
   "execution_count": 14,
   "metadata": {},
   "outputs": [
    {
     "name": "stdout",
     "output_type": "stream",
     "text": [
      "shape: (61, 2)\n",
      "┌──────┬──────────────────┐\n",
      "│ year ┆ weighted_avg_aqi │\n",
      "│ ---  ┆ ---              │\n",
      "│ i32  ┆ f64              │\n",
      "╞══════╪══════════════════╡\n",
      "│ 1964 ┆ 32.41            │\n",
      "│ 1965 ┆ 25.73            │\n",
      "│ 1966 ┆ 21.06            │\n",
      "│ 1967 ┆ 26.93            │\n",
      "│ 1968 ┆ 25.57            │\n",
      "│ …    ┆ …                │\n",
      "│ 2020 ┆ 59.25            │\n",
      "│ 2021 ┆ 52.98            │\n",
      "│ 2022 ┆ 43.03            │\n",
      "│ 2023 ┆ 45.11            │\n",
      "│ 2024 ┆ 38.37            │\n",
      "└──────┴──────────────────┘\n"
     ]
    }
   ],
   "source": [
    "# join the yearly aggregated per station table with the unique_station table to map the distances\n",
    "yearly_aqi_weighted_avg = (\n",
    "    aqi_yearly_per_station\n",
    "    .join(\n",
    "        unique_stations_dist,\n",
    "        on = \"site_number\"\n",
    "    )\n",
    "    .drop(\n",
    "        [\n",
    "            \"state_code\",\n",
    "            \"county_code\",\n",
    "            \"latitude\",\n",
    "            \"longitude\"\n",
    "        ]\n",
    "    )\n",
    "    .with_columns(\n",
    "        (1 / pl.col(\"distance_in_miles\")).alias(\"weight\")  # Invert distance to create weight\n",
    "    ) \n",
    "    .with_columns(\n",
    "        (pl.col(\"aqi\") * pl.col(\"weight\")).alias(\"weighted_aqi\")  # AQI * weight\n",
    "    ) \n",
    "    .group_by(\"year\")\n",
    "    .agg(\n",
    "        [\n",
    "          (pl.sum(\"weighted_aqi\") / pl.sum(\"weight\")).round(2).alias(\"weighted_avg_aqi\")  # Weighted average AQI\n",
    "        ]\n",
    "    )\n",
    ")\n",
    "yearly_aqi_weighted_avg = yearly_aqi_weighted_avg.sort(by=\"year\")\n",
    "print(yearly_aqi_weighted_avg)"
   ]
  },
  {
   "cell_type": "code",
   "execution_count": 15,
   "metadata": {},
   "outputs": [],
   "source": [
    "yearly_aqi_weighted_avg.write_csv(\"generated_files/intermediate/yearly_weighted_aqi_1964-2024.csv\")"
   ]
  }
 ],
 "metadata": {
  "kernelspec": {
   "display_name": "Python 3",
   "language": "python",
   "name": "python3"
  },
  "language_info": {
   "codemirror_mode": {
    "name": "ipython",
    "version": 3
   },
   "file_extension": ".py",
   "mimetype": "text/x-python",
   "name": "python",
   "nbconvert_exporter": "python",
   "pygments_lexer": "ipython3",
   "version": "3.11.4"
  }
 },
 "nbformat": 4,
 "nbformat_minor": 2
}
